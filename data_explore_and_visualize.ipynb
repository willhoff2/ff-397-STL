{
 "cells": [
  {
   "cell_type": "code",
   "execution_count": 3,
   "metadata": {},
   "outputs": [],
   "source": [
    "import pandas as pd\n",
    "import numpy as np\n",
    "import matplotlib.pyplot as plt\n",
    "import requests\n",
    "import time"
   ]
  },
  {
   "cell_type": "code",
   "execution_count": 4,
   "metadata": {},
   "outputs": [],
   "source": [
    "## Load Data\n",
    "\n",
    "df_2019 = pd.read_csv('data/fantasy_data_2019.csv')\n",
    "df_2020 = pd.read_csv('data/fantasy_data_2020.csv')\n",
    "df_2021 = pd.read_csv('data/fantasy_data_2021.csv')\n",
    "df_2022 = pd.read_csv('data/fantasy_data_2022.csv')\n",
    "df_2023 = pd.read_csv('data/fantasy_data_2023.csv')"
   ]
  },
  {
   "cell_type": "code",
   "execution_count": null,
   "metadata": {},
   "outputs": [],
   "source": [
    "## Define and assign Fantasy points\n",
    "\n",
    "## Calculates Fantasy points for each player in a dataframe\n",
    "def fantasy_points(df):\n",
    "  all_points = []\n",
    "  for i,row in df.iterrows():\n",
    "    player_points = 0\n",
    "    player_points += 0.1 * (row['rush_yds'] + row['rec_yds'])\n",
    "    player_points += 6 * (row['rush_td'] + row['rec_td'])\n",
    "    player_points += (1/25) * row['pass_yds']\n",
    "    player_points += (4) * row['pass_td']\n",
    "    player_points += (-2) * row['int']\n",
    "    ## No fumbles, no rush yards for wrs\n",
    "    all_points.append(player_points)\n",
    "  return all_points\n",
    "\n"
   ]
  }
 ],
 "metadata": {
  "kernelspec": {
   "display_name": "ffenv",
   "language": "python",
   "name": "python3"
  },
  "language_info": {
   "codemirror_mode": {
    "name": "ipython",
    "version": 3
   },
   "file_extension": ".py",
   "mimetype": "text/x-python",
   "name": "python",
   "nbconvert_exporter": "python",
   "pygments_lexer": "ipython3",
   "version": "3.12.0"
  }
 },
 "nbformat": 4,
 "nbformat_minor": 2
}
