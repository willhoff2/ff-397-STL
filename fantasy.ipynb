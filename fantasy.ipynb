{
 "cells": [
  {
   "cell_type": "markdown",
   "metadata": {
    "id": "LMN6Kje4q07D"
   },
   "source": [
    "# Fantasy Football Model\n",
    "### Goal: create a model that uses player data from year x to predict fantasy points in year x + 1"
   ]
  },
  {
   "cell_type": "code",
   "execution_count": 1,
   "metadata": {
    "id": "Ly0zgY2STa9r",
    "tags": []
   },
   "outputs": [
    {
     "name": "stdout",
     "output_type": "stream",
     "text": [
      "Requirement already satisfied: pyopenssl in /opt/miniconda3/envs/ffenv/lib/python3.12/site-packages (24.1.0)\n",
      "Requirement already satisfied: ndg-httpsclient in /opt/miniconda3/envs/ffenv/lib/python3.12/site-packages (0.5.1)\n",
      "Requirement already satisfied: pyasn1 in /opt/miniconda3/envs/ffenv/lib/python3.12/site-packages (0.6.0)\n",
      "Requirement already satisfied: cryptography<43,>=41.0.5 in /opt/miniconda3/envs/ffenv/lib/python3.12/site-packages (from pyopenssl) (42.0.7)\n",
      "Requirement already satisfied: cffi>=1.12 in /opt/miniconda3/envs/ffenv/lib/python3.12/site-packages (from cryptography<43,>=41.0.5->pyopenssl) (1.16.0)\n",
      "Requirement already satisfied: pycparser in /opt/miniconda3/envs/ffenv/lib/python3.12/site-packages (from cffi>=1.12->cryptography<43,>=41.0.5->pyopenssl) (2.22)\n"
     ]
    }
   ],
   "source": [
    "!pip install pyopenssl ndg-httpsclient pyasn1\n",
    "import pandas as pd\n",
    "import numpy as np\n",
    "import matplotlib.pyplot as plt\n",
    "import requests\n",
    "import time\n",
    "from tqdm import tqdm\n",
    "from sklearn.model_selection import train_test_split\n",
    "from sklearn.linear_model import LinearRegression\n",
    "from sklearn.linear_model import Lasso\n",
    "from sklearn.metrics import mean_squared_error, r2_score\n",
    "import traceback\n"
   ]
  },
  {
   "cell_type": "code",
   "execution_count": 2,
   "metadata": {
    "id": "JP6AoAqA1Dts",
    "tags": []
   },
   "outputs": [],
   "source": [
    "## Calculates Fantasy points for each player in a dataframe\n",
    "def fantasy_points(df):\n",
    "  all_points = []\n",
    "  for i,row in df.iterrows():\n",
    "    player_points = 0\n",
    "    player_points += 0.1 * (row['rush_yds'] + row['rec_yds'])\n",
    "    player_points += 6 * (row['rush_td'] + row['rec_td'])\n",
    "    player_points += (1/25) * row['pass_yds']\n",
    "    player_points += (4) * row['pass_td']\n",
    "    player_points += (-2) * row['int']\n",
    "    player_points += (-2) * row['fumbles']\n",
    "    ## No fumbles, no rush yards for wrs\n",
    "    all_points.append(player_points)\n",
    "  return all_points"
   ]
  },
  {
   "cell_type": "code",
   "execution_count": 3,
   "metadata": {
    "id": "qthqY2kdFqHs",
    "tags": []
   },
   "outputs": [],
   "source": [
    "# TAKEN FROM https://github.com/mjk2244/pro-football-reference-web-scraper/blob/main/pro_football_reference_web_scraper/player_game_log.py\n",
    "# We found a bug in their source code, so just copying it to fix\n",
    "import pandas as pd  # type: ignore\n",
    "from bs4 import BeautifulSoup\n",
    "import requests\n",
    "\n",
    "valid_positions = ['QB', 'RB', 'WR', 'TE']\n",
    "\n",
    "# function that returns a player's game log in a given season\n",
    "# player: player's full name (e.g. Tom Brady)\n",
    "# position: abbreviation (QB, RB, WR, TE only)\n",
    "def get_player_game_log(player: str, position: str, season: int) -> pd.DataFrame:\n",
    "    \"\"\"A function to retrieve a player's game log in a given season.\n",
    "\n",
    "    Returns a pandas DataFrame of a NFL player's game log in a given season, including position-specific statistics.\n",
    "\n",
    "    Args:\n",
    "        player (str): A NFL player's full name, as it appears on Pro Football Reference\n",
    "        position (str): The position the player plays. Must be 'QB', 'RB', 'WR', or 'TE'\n",
    "        season (int): The season of the game log you are trying to retrieve\n",
    "\n",
    "    Returns:\n",
    "        pandas.DataFrame: Each game is a row of the DataFrame\n",
    "\n",
    "    \"\"\"\n",
    "\n",
    "    # position arg must be formatted properly\n",
    "    if position not in valid_positions:\n",
    "        raise Exception('Invalid position: \"position\" arg must be \"QB\", \"RB\", \"WR\", or \"TE\"')\n",
    "\n",
    "    # make request to find proper href\n",
    "    r1 = make_request_list(player, position, season)\n",
    "    player_list = get_soup(r1)\n",
    "\n",
    "    # find href\n",
    "    href = get_href(player, position, season, player_list)\n",
    "\n",
    "    # make HTTP request and extract HTML\n",
    "    r2 = make_request_player(href, season)\n",
    "\n",
    "    # parse HTML using BeautifulSoup\n",
    "    game_log = get_soup(r2)\n",
    "\n",
    "    # generating the appropriate game log format according to position\n",
    "    if 'QB' in position:\n",
    "        return qb_game_log(game_log, season)\n",
    "    elif 'WR' in position or 'TE' in position:\n",
    "        return wr_game_log(game_log, season)\n",
    "    elif 'RB' in position:\n",
    "        return rb_game_log(game_log, season)\n",
    "\n",
    "\n",
    "# helper function that gets the player's href\n",
    "def get_href(player: str, position: str, season: int, player_list: BeautifulSoup) -> str:\n",
    "    players = player_list.find('div', id='div_players').find_all('p')\n",
    "    for p in players:\n",
    "        seasons = p.text.split(' ')\n",
    "        seasons = seasons[len(seasons) - 1].split('-')\n",
    "        if season >= int(seasons[0]) and season <= int(seasons[1]) and player in p.text and (position in p.text or \"J.D. McKissic\" in p.text):\n",
    "            return p.find('a').get('href').replace('.htm', '')\n",
    "    raise Exception('Cannot find a ' + position + ' named ' + player + ' from ' + str(season))\n",
    "\n",
    "\n",
    "# helper function that makes a HTTP request over a list of players with a given last initial\n",
    "def make_request_list(player: str, position: str, season: int):\n",
    "    name_split = player.split(' ')\n",
    "    last_initial = name_split[1][0]\n",
    "    url = 'https://www.pro-football-reference.com/players/%s/' % (last_initial)\n",
    "    return requests.get(url)\n",
    "\n",
    "\n",
    "# helper function that makes a HTTP request for a given player's game log\n",
    "def make_request_player(href: str, season: int):\n",
    "    url = 'https://www.pro-football-reference.com%s/gamelog/%s/' % (href, season)\n",
    "    return requests.get(url)\n",
    "\n",
    "\n",
    "# helper function that takes a requests.Response object and returns a BeautifulSoup object\n",
    "def get_soup(request):\n",
    "    return BeautifulSoup(request.text, 'html.parser')\n",
    "\n",
    "\n",
    "# helper function that takes a BeautifulSoup object and converts it into a pandas dataframe containing a QB game log\n",
    "def qb_game_log(soup: BeautifulSoup, season: int) -> pd.DataFrame:\n",
    "    # Most relevant QB stats, in my opinion. Could adjust if necessary\n",
    "    data = {\n",
    "        'date': [],\n",
    "        'week': [],\n",
    "        'team': [],\n",
    "        'game_location': [],\n",
    "        'opp': [],\n",
    "        'result': [],\n",
    "        'team_pts': [],\n",
    "        'opp_pts': [],\n",
    "        'cmp': [],\n",
    "        'att': [],\n",
    "        'pass_yds': [],\n",
    "        'pass_td': [],\n",
    "        'int': [],\n",
    "        'rating': [],\n",
    "        'sacked': [],\n",
    "        'rush_att': [],\n",
    "        'rush_yds': [],\n",
    "        'rush_td': [],\n",
    "        'age': [],\n",
    "        'fumbles': [],\n",
    "        'yards_per_attempt_qb': []\n",
    "    }  # type: dict\n",
    "\n",
    "    table_rows = soup.find('tbody').find_all('tr')\n",
    "\n",
    "    # ignore inactive or DNP games\n",
    "    to_ignore = []\n",
    "    for i in range(len(table_rows)):\n",
    "        elements = table_rows[i].find_all('td')\n",
    "        x = elements[len(elements) - 1].text\n",
    "        if x == 'Inactive' or x == 'Did Not Play' or x == 'Injured Reserve' or x == 'COVID-19 List' or x == 'Suspended' or x == 'Suspended':\n",
    "            to_ignore.append(i)\n",
    "        else:\n",
    "          att = elements[10].text # CHANGED (Checking if QB attempts = \"\", implying they didn't play)\n",
    "          if att == \"\":\n",
    "            to_ignore.append(i)\n",
    "\n",
    "    # adding data to data dictionary\n",
    "    for i in range(len(table_rows)):\n",
    "        if i not in to_ignore:\n",
    "            data['date'].append(table_rows[i].find('td', {'data-stat': 'game_date'}).text)\n",
    "            data['week'].append(int(table_rows[i].find('td', {'data-stat': 'week_num'}).text))\n",
    "            data['team'].append(table_rows[i].find('td', {'data-stat': 'team'}).text)\n",
    "            data['game_location'].append(table_rows[i].find('td', {'data-stat': 'game_location'}).text)\n",
    "            data['opp'].append(table_rows[i].find('td', {'data-stat': 'opp'}).text)\n",
    "            data['result'].append(table_rows[i].find('td', {'data-stat': 'game_result'}).text.split(' ')[0])\n",
    "            data['team_pts'].append(\n",
    "                int(table_rows[i].find('td', {'data-stat': 'game_result'}).text.split(' ')[1].split('-')[0])\n",
    "            )\n",
    "            data['opp_pts'].append(\n",
    "                int(table_rows[i].find('td', {'data-stat': 'game_result'}).text.split(' ')[1].split('-')[1])\n",
    "            )\n",
    "            data['cmp'].append(int(table_rows[i].find('td', {'data-stat': 'pass_cmp'}).text)) if table_rows[i].find(\n",
    "                'td', {'data-stat': 'pass_cmp'}\n",
    "            ).text != '' else data['cmp'].append(0)\n",
    "            data['att'].append(int(table_rows[i].find('td', {'data-stat': 'pass_att'}).text)) if table_rows[i].find(\n",
    "                'td', {'data-stat': 'pass_att'}\n",
    "            ).text != '' else data['att'].append(0)\n",
    "            data['pass_yds'].append(int(table_rows[i].find('td', {'data-stat': 'pass_yds'}).text)) if table_rows[\n",
    "                i\n",
    "            ].find('td', {'data-stat': 'pass_yds'}).text != '' else data['pass_yds'].append(0)\n",
    "            data['pass_td'].append(int(table_rows[i].find('td', {'data-stat': 'pass_td'}).text)) if table_rows[i].find(\n",
    "                'td', {'data-stat': 'pass_td'}\n",
    "            ).text != '' else data['pass_td'].append(0)\n",
    "            data['int'].append(int(table_rows[i].find('td', {'data-stat': 'pass_int'}).text)) if table_rows[i].find(\n",
    "                'td', {'data-stat': 'pass_int'}\n",
    "            ).text != '' else data['int'].append(0)\n",
    "            data['rating'].append(float(table_rows[i].find('td', {'data-stat': 'pass_rating'}).text)) if table_rows[\n",
    "                i\n",
    "            ].find('td', {'data-stat': 'pass_rating'}).text != '' else data['rating'].append(0)\n",
    "            data['sacked'].append(int(table_rows[i].find('td', {'data-stat': 'pass_sacked'}).text)) if table_rows[\n",
    "                i\n",
    "            ].find('td', {'data-stat': 'pass_sacked'}).text != '' else data['sacked'].append(0)\n",
    "            data['rush_att'].append(int(table_rows[i].find('td', {'data-stat': 'rush_att'}).text)) if table_rows[\n",
    "                i\n",
    "            ].find('td', {'data-stat': 'rush_att'}).text != '' else data['rush_att'].append(0)\n",
    "            data['rush_yds'].append(int(table_rows[i].find('td', {'data-stat': 'rush_yds'}).text)) if table_rows[\n",
    "                i\n",
    "            ].find('td', {'data-stat': 'rush_yds'}).text != '' else data['rush_yds'].append(0)\n",
    "            data['rush_td'].append(int(table_rows[i].find('td', {'data-stat': 'rush_td'}).text)) if table_rows[i].find(\n",
    "                'td', {'data-stat': 'rush_td'}\n",
    "            ).text != '' else data['rush_td'].append(0)\n",
    "            data['age'].append(float(table_rows[i].find('td', {'data-stat': 'age'}).text)) if table_rows[i].find(\n",
    "                'td', {'data-stat': 'age'}\n",
    "            ).text != '' else data['age'].append(0)\n",
    "            if not table_rows[i].find('td', {'data-stat': 'fumbles_lost'}):\n",
    "                data['fumbles'].append(0)\n",
    "            else:\n",
    "                data['fumbles'].append(int(table_rows[i].find('td', {'data-stat': 'fumbles_lost'}).text)) if table_rows[i].find(\n",
    "                    'td', {'data-stat': 'fumbles_lost'}\n",
    "                ).text != '' else data['fumbles'].append(0)\n",
    "            data['yards_per_attempt_qb'].append(float(table_rows[i].find('td', {'data-stat': 'pass_yds_per_att'}).text)) if table_rows[i].find(\n",
    "                'td', {'data-stat': 'pass_yds_per_att'}\n",
    "            ).text != '' else data['yards_per_attempt_qb'].append(0)\n",
    "\n",
    "    return pd.DataFrame(data=data)\n",
    "\n",
    "\n",
    "# helper function that takes a BeautifulSoup object and converts it into a pandas dataframe containing a WR/TE game log\n",
    "def wr_game_log(soup: BeautifulSoup, season: int) -> pd.DataFrame:\n",
    "    # Most relevant WR stats, in my opinion.\n",
    "    # Could adjust if necessary (maybe figure out how to incorporate rushing stats?)\n",
    "\n",
    "    data = {\n",
    "        'date': [],\n",
    "        'week': [],\n",
    "        'team': [],\n",
    "        'game_location': [],\n",
    "        'opp': [],\n",
    "        'result': [],\n",
    "        'team_pts': [],\n",
    "        'opp_pts': [],\n",
    "        'tgt': [],\n",
    "        'rec': [],\n",
    "        'rec_yds': [],\n",
    "        'rec_td': [],\n",
    "        'snap_pct': [],\n",
    "        'age': [],\n",
    "        'fumbles': [],\n",
    "        'yards_per_reception_wr': []\n",
    "    }  # type: dict\n",
    "\n",
    "    table_rows = soup.find('tbody').find_all('tr')\n",
    "\n",
    "    # ignore inactive or DNP games\n",
    "    to_ignore = []\n",
    "    for i in range(len(table_rows)):\n",
    "        elements = table_rows[i].find_all('td')\n",
    "        x = elements[len(elements) - 1].text\n",
    "        if x == 'Inactive' or x == 'Did Not Play' or x == 'Injured Reserve' or x == 'COVID-19 List' or x == 'Suspended':\n",
    "            to_ignore.append(i)\n",
    "        else:\n",
    "          tgt = elements[10].text # CHANGED (Checking if WR targets = \"\", implying they didn't play)\n",
    "          if tgt == \"\":\n",
    "            to_ignore.append(i)\n",
    "\n",
    "    # adding data to data dictionray\n",
    "    for i in range(len(table_rows)):\n",
    "        if i not in to_ignore:\n",
    "            data['date'].append(table_rows[i].find('td', {'data-stat': 'game_date'}).text)\n",
    "            data['week'].append(int(table_rows[i].find('td', {'data-stat': 'week_num'}).text))\n",
    "            data['team'].append(table_rows[i].find('td', {'data-stat': 'team'}).text)\n",
    "            data['game_location'].append(table_rows[i].find('td', {'data-stat': 'game_location'}).text)\n",
    "            data['opp'].append(table_rows[i].find('td', {'data-stat': 'opp'}).text)\n",
    "            data['result'].append(table_rows[i].find('td', {'data-stat': 'game_result'}).text.split(' ')[0])\n",
    "            data['team_pts'].append(\n",
    "                int(table_rows[i].find('td', {'data-stat': 'game_result'}).text.split(' ')[1].split('-')[0])\n",
    "            )\n",
    "            data['opp_pts'].append(\n",
    "                int(table_rows[i].find('td', {'data-stat': 'game_result'}).text.split(' ')[1].split('-')[1])\n",
    "            )\n",
    "            data['tgt'].append(int(table_rows[i].find('td', {'data-stat': 'targets'}).text))\n",
    "            data['rec'].append(int(table_rows[i].find('td', {'data-stat': 'rec'}).text))\n",
    "            data['rec_yds'].append(int(table_rows[i].find('td', {'data-stat': 'rec_yds'}).text))\n",
    "            data['rec_td'].append(int(table_rows[i].find('td', {'data-stat': 'rec_td'}).text))\n",
    "            if season > 2011:\n",
    "                data['snap_pct'].append(float(int(table_rows[i].find('td', {'data-stat': 'off_pct'}).text[:-1]) / 100))\n",
    "            else:\n",
    "                data['snap_pct'].append('Not Available')\n",
    "            data['age'].append(float(table_rows[i].find('td', {'data-stat': 'age'}).text)) if table_rows[i].find(\n",
    "                'td', {'data-stat': 'age'}\n",
    "            ).text != '' else data['age'].append(0)\n",
    "            if not table_rows[i].find('td', {'data-stat': 'fumbles_lost'}):\n",
    "                data['fumbles'].append(0)\n",
    "            else:\n",
    "                data['fumbles'].append(int(table_rows[i].find('td', {'data-stat': 'fumbles_lost'}).text)) if table_rows[i].find(\n",
    "                    'td', {'data-stat': 'fumbles_lost'}\n",
    "                ).text != '' else data['fumbles'].append(0)\n",
    "            data['yards_per_reception_wr'].append(float(table_rows[i].find('td', {'data-stat': 'rec_yds_per_rec'}).text)) if table_rows[i].find(\n",
    "                'td', {'data-stat': 'rec_yds_per_rec'}\n",
    "            ).text != '' else data['yards_per_reception_wr'].append(0)\n",
    "\n",
    "    return pd.DataFrame(data=data)\n",
    "\n",
    "\n",
    "def rb_game_log(soup: BeautifulSoup, season: int) -> pd.DataFrame:\n",
    "    # Most relevant RB stats, in my opinion. Could adjust if necessary\n",
    "    data = {\n",
    "        'date': [],\n",
    "        'week': [],\n",
    "        'team': [],\n",
    "        'game_location': [],\n",
    "        'opp': [],\n",
    "        'result': [],\n",
    "        'team_pts': [],\n",
    "        'opp_pts': [],\n",
    "        'rush_att': [],\n",
    "        'rush_yds': [],\n",
    "        'rush_td': [],\n",
    "        'tgt': [],\n",
    "        'rec': [],\n",
    "        'rec_yds': [],\n",
    "        'rec_td': [],\n",
    "        'age': [],\n",
    "        'fumbles': [],\n",
    "        'yards_per_attempt_rb': []\n",
    "    }  # type: dict\n",
    "\n",
    "    table_rows = soup.find('tbody').find_all('tr')\n",
    "\n",
    "    # ignore inactive or DNP games\n",
    "    to_ignore = []\n",
    "    for i in range(len(table_rows)):\n",
    "        elements = table_rows[i].find_all('td')\n",
    "        x = elements[len(elements) - 1].text\n",
    "        if x == 'Inactive' or x == 'Did Not Play' or x == 'Injured Reserve' or x == 'COVID-19 List':\n",
    "            to_ignore.append(i)\n",
    "        else:\n",
    "          att = elements[10].text # CHANGED (Checking if RB attempts = \"\", implying they didn't play)\n",
    "          if att == \"\":\n",
    "            to_ignore.append(i)\n",
    "\n",
    "    # adding data to data dictionary\n",
    "    for i in range(len(table_rows)):\n",
    "        if i not in to_ignore:\n",
    "            data['date'].append(table_rows[i].find('td', {'data-stat': 'game_date'}).text)\n",
    "            data['week'].append(int(table_rows[i].find('td', {'data-stat': 'week_num'}).text))\n",
    "            data['team'].append(table_rows[i].find('td', {'data-stat': 'team'}).text)\n",
    "            data['game_location'].append(table_rows[i].find('td', {'data-stat': 'game_location'}).text)\n",
    "            data['opp'].append(table_rows[i].find('td', {'data-stat': 'opp'}).text)\n",
    "            data['result'].append(table_rows[i].find('td', {'data-stat': 'game_result'}).text.split(' ')[0])\n",
    "            data['team_pts'].append(\n",
    "                int(table_rows[i].find('td', {'data-stat': 'game_result'}).text.split(' ')[1].split('-')[0])\n",
    "            )\n",
    "            data['opp_pts'].append(\n",
    "                int(table_rows[i].find('td', {'data-stat': 'game_result'}).text.split(' ')[1].split('-')[1])\n",
    "            )\n",
    "            data['rush_att'].append(int(table_rows[i].find('td', {'data-stat': 'rush_att'}).text)) if table_rows[\n",
    "                i\n",
    "            ].find('td', {'data-stat': 'rush_att'}).text != '' else data['rush_att'].append(0)\n",
    "            data['rush_yds'].append(int(table_rows[i].find('td', {'data-stat': 'rush_yds'}).text)) if table_rows[\n",
    "                i\n",
    "            ].find('td', {'data-stat': 'rush_yds'}).text != '' else data['rush_yds'].append(0)\n",
    "            data['rush_td'].append(int(table_rows[i].find('td', {'data-stat': 'rush_td'}).text)) if table_rows[i].find(\n",
    "                'td', {'data-stat': 'rush_td'}\n",
    "            ).text != '' else data['rush_td'].append(0)\n",
    "            data['tgt'].append(int(table_rows[i].find('td', {'data-stat': 'targets'}).text)) if table_rows[i].find(\n",
    "                'td', {'data-stat': 'targets'}\n",
    "            ).text != '' else data['tgt'].append(0)\n",
    "            data['rec'].append(int(table_rows[i].find('td', {'data-stat': 'rec'}).text)) if table_rows[i].find(\n",
    "                'td', {'data-stat': 'rec'}\n",
    "            ).text != '' else data['rec'].append(0)\n",
    "            data['rec_yds'].append(int(table_rows[i].find('td', {'data-stat': 'rec_yds'}).text)) if table_rows[i].find(\n",
    "                'td', {'data-stat': 'rec_yds'}\n",
    "            ).text != '' else data['rec_yds'].append(0)\n",
    "            data['rec_td'].append(int(table_rows[i].find('td', {'data-stat': 'rec_td'}).text)) if table_rows[i].find(\n",
    "                'td', {'data-stat': 'rec_td'}\n",
    "            ).text != '' else data['rec_td'].append(0)\n",
    "            data['age'].append(float(table_rows[i].find('td', {'data-stat': 'age'}).text)) if table_rows[i].find(\n",
    "                'td', {'data-stat': 'age'}\n",
    "            ).text != '' else data['age'].append(0)\n",
    "            if not table_rows[i].find('td', {'data-stat': 'fumbles_lost'}):\n",
    "                data['fumbles'].append(0)\n",
    "            else:\n",
    "                data['fumbles'].append(int(table_rows[i].find('td', {'data-stat': 'fumbles_lost'}).text)) if table_rows[i].find(\n",
    "                    'td', {'data-stat': 'fumbles_lost'}\n",
    "                ).text != '' else data['fumbles'].append(0)\n",
    "            data['yards_per_attempt_rb'].append(float(table_rows[i].find('td', {'data-stat': 'rush_yds_per_att'}).text)) if table_rows[i].find(\n",
    "                'td', {'data-stat': 'rush_yds_per_att'}\n",
    "            ).text != '' else data['yards_per_attempt_rb'].append(0)\n",
    "\n",
    "    return pd.DataFrame(data=data)"
   ]
  },
  {
   "cell_type": "code",
   "execution_count": 7,
   "metadata": {
    "id": "jS52bOSIqoew",
    "tags": []
   },
   "outputs": [],
   "source": [
    "# ATTEMPT 1: One year of data (2022), Linear Regression model\n",
    "def get_year_data(season, player_list=None):\n",
    "  df = pd.DataFrame(columns=['name', 'position', \"team_pts\", \"opp_pts\", \"cmp\", \"att\", \"pass_yds\", \"pass_td\", \"int\", \"rating\", \"sacked\", \"rush_att\", \"rush_yds\", \"rush_td\", \"tgt\", \"rec_yds\", \"rec_td\", \"snap_pct\", \"rec\", \"age\", \"fumbles\", \"games_played\", \"yards_per_attempt_qb\", \"yards_per_attempt_rb\", \"yards_per_reception_wr\"])\n",
    "  rows = []\n",
    "  if not player_list:\n",
    "    response = requests.get(f\"https://fantasyfootballcalculator.com/api/v1/adp/standard?teams=10&year={season}\")\n",
    "    if response.status_code == 200:\n",
    "        data = response.json()\n",
    "    else:\n",
    "        print('Error:', response.status_code) \n",
    "  else:\n",
    "    data = player_list\n",
    "  # print(data)\n",
    "  for i in tqdm(data[\"players\"], desc=\"Scraping Player Data\", position=0, leave=True):\n",
    "    time.sleep(5)\n",
    "    try:\n",
    "      if i[\"position\"] == \"QB\" or i[\"position\"] == \"RB\" or i[\"position\"] == \"WR\" or i[\"position\"] == \"TE\":\n",
    "        name = i[\"name\"]\n",
    "        if i[\"name\"] == \"A.J. Dillon\":\n",
    "          name = \"AJ Dillon\"\n",
    "        elif i[\"name\"] == \"Robert Tonyan Jr.\":\n",
    "          name = \"Robert Tonyan\"\n",
    "        elif i[\"name\"] == \"Donta Foreman\":\n",
    "          name = \"D'Onta Foreman\"\n",
    "        elif i[\"name\"] == \"D.J. Chark\":\n",
    "          name = \"DJ Chark\"\n",
    "        elif i[\"name\"] == 'LeVeon Bell':\n",
    "          name = \"Le'Veon Bell\"\n",
    "\n",
    "        # game_log = get_player_game_log(player=name, position=i[\"position\"], season=season)\n",
    "        game_log = get_player_game_log(player=name, position=i[\"position\"], season=season)\n",
    "\n",
    "        if i[\"position\"] == \"QB\":\n",
    "            tot_team_points = sum(game_log[\"team_pts\"])\n",
    "            tot_opp_points = sum(game_log[\"opp_pts\"])\n",
    "            tot_cmp = sum(game_log[\"cmp\"])\n",
    "            tot_att = sum(game_log[\"att\"])\n",
    "            tot_pass_yds = sum(game_log[\"pass_yds\"])\n",
    "            tot_pass_td = sum(game_log[\"pass_td\"])\n",
    "            tot_int = sum(game_log[\"int\"])\n",
    "            avg_rating = game_log[\"rating\"].mean()\n",
    "            tot_sacked = sum(game_log[\"sacked\"])\n",
    "            tot_rush_att = sum(game_log[\"rush_att\"])\n",
    "            tot_rush_yds = sum(game_log[\"rush_yds\"])\n",
    "            tot_rush_td = sum(game_log[\"rush_td\"])\n",
    "            tot_tgt = 0\n",
    "            tot_rec_yds = 0\n",
    "            tot_rec_td = 0\n",
    "            avg_snap_pct = 0\n",
    "            tot_rec = 0\n",
    "            avg_age = game_log[\"age\"].mean()\n",
    "            tot_fumbles = sum(game_log[\"fumbles\"])\n",
    "            tot_games = len(game_log[\"team_pts\"])\n",
    "            avg_yards_per_attempt_qb = game_log[\"yards_per_attempt_qb\"].mean()\n",
    "            avg_yards_per_attempt_rb = 0\n",
    "            avg_yards_per_reception_wr = 0\n",
    "        elif i[\"position\"] == \"RB\":\n",
    "            tot_team_points = sum(game_log[\"team_pts\"])\n",
    "            tot_opp_points = sum(game_log[\"opp_pts\"])\n",
    "            tot_cmp = 0\n",
    "            tot_att = 0\n",
    "            tot_pass_yds = 0\n",
    "            tot_pass_td =  0\n",
    "            tot_int = 0\n",
    "            avg_rating = 0\n",
    "            tot_sacked = 0\n",
    "            tot_rush_att = sum(game_log[\"rush_att\"])\n",
    "            tot_rush_yds = sum(game_log[\"rush_yds\"])\n",
    "            tot_rush_td = sum(game_log[\"rush_td\"])\n",
    "            tot_tgt = sum(game_log[\"tgt\"])\n",
    "            tot_rec_yds = sum(game_log[\"rec_yds\"])\n",
    "            tot_rec_td = sum(game_log[\"rec_td\"])\n",
    "            avg_snap_pct = 0\n",
    "            tot_rec = 0\n",
    "            avg_age = game_log[\"age\"].mean()\n",
    "            tot_fumbles = sum(game_log[\"fumbles\"])\n",
    "            tot_games = len(game_log[\"team_pts\"])\n",
    "            avg_yards_per_attempt_qb = 0\n",
    "            avg_yards_per_attempt_rb = game_log[\"yards_per_attempt_rb\"].mean()\n",
    "            avg_yards_per_reception_wr = 0\n",
    "        elif i[\"position\"] == \"WR\" or i[\"position\"] == \"TE\":\n",
    "            tot_team_points = sum(game_log[\"team_pts\"])\n",
    "            tot_opp_points = sum(game_log[\"opp_pts\"])\n",
    "            tot_cmp = 0\n",
    "            tot_att = 0\n",
    "            tot_pass_yds = 0\n",
    "            tot_pass_td =  0\n",
    "            tot_int = 0\n",
    "            avg_rating = 0\n",
    "            tot_sacked = 0\n",
    "            tot_rush_att = 0\n",
    "            tot_rush_yds = 0\n",
    "            tot_rush_td = 0\n",
    "            tot_tgt = sum(game_log[\"tgt\"])\n",
    "            tot_rec_yds = sum(game_log[\"rec_yds\"])\n",
    "            tot_rec_td = sum(game_log[\"rec_td\"])\n",
    "            avg_snap_pct = game_log[\"snap_pct\"].mean()\n",
    "            tot_rec = sum(game_log[\"rec\"])\n",
    "            avg_age = game_log[\"age\"].mean()\n",
    "            tot_fumbles = tot_fumbles = sum(game_log[\"fumbles\"])\n",
    "            tot_games = len(game_log[\"team_pts\"])\n",
    "            avg_yards_per_attempt_qb = 0\n",
    "            avg_yards_per_attempt_rb = 0\n",
    "            avg_yards_per_reception_wr = game_log[\"yards_per_reception_wr\"].mean()\n",
    "\n",
    "        # Create a dictionary for the current row\n",
    "        row = {\n",
    "            'name': name,\n",
    "            'position': i[\"position\"],\n",
    "            'team_pts': tot_team_points,\n",
    "            'opp_pts': tot_opp_points,\n",
    "            'cmp': tot_cmp,\n",
    "            'att': tot_att,\n",
    "            'pass_yds': tot_pass_yds,\n",
    "            'pass_td': tot_pass_td,\n",
    "            'int': tot_int,\n",
    "            'rating': avg_rating,\n",
    "            'sacked': tot_sacked,\n",
    "            'rush_att': tot_rush_att,\n",
    "            'rush_yds': tot_rush_yds,\n",
    "            'rush_td': tot_rush_td,\n",
    "            'tgt': tot_tgt,\n",
    "            'rec_yds': tot_rec_yds,\n",
    "            'rec_td': tot_rec_td,\n",
    "            'snap_pct': avg_snap_pct,\n",
    "            'rec': tot_rec,\n",
    "            'age': avg_age,\n",
    "            'fumbles': tot_fumbles,\n",
    "            'games_played': tot_games,\n",
    "            'yards_per_attempt_qb': avg_yards_per_attempt_qb,\n",
    "            'yards_per_attempt_rb': avg_yards_per_attempt_rb,\n",
    "            'yards_per_reception_wr': avg_yards_per_reception_wr\n",
    "        }\n",
    "\n",
    "        # Append the row dictionary to the list of rows\n",
    "        rows.append(row)\n",
    "\n",
    "    except Exception as err:\n",
    "      print()\n",
    "      print(i[\"name\"], i[\"position\"])\n",
    "      print(err)\n",
    "      traceback.print_exc()\n",
    "\n",
    "  # Concatenate all rows into a single DataFrame\n",
    "  df = pd.concat([pd.DataFrame([row]) for row in rows], ignore_index=True)\n",
    "  return df"
   ]
  },
  {
   "cell_type": "code",
   "execution_count": 8,
   "metadata": {
    "colab": {
     "base_uri": "https://localhost:8080/",
     "height": 1000
    },
    "id": "m0mVQAHNFRjR",
    "outputId": "0a2a1490-fc92-40ff-96be-27b7f543cb89",
    "tags": []
   },
   "outputs": [
    {
     "name": "stderr",
     "output_type": "stream",
     "text": [
      "Scraping Player Data:  21%|██        | 40/193 [04:14<15:06,  5.93s/it]Traceback (most recent call last):\n",
      "  File \"/var/folders/wl/j68ws2ns3558nbvlc6n6ykbm0000gp/T/ipykernel_63208/1963778672.py\", line 31, in get_year_data\n",
      "    game_log = get_player_game_log(player=name, position=i[\"position\"], season=season)\n",
      "               ^^^^^^^^^^^^^^^^^^^^^^^^^^^^^^^^^^^^^^^^^^^^^^^^^^^^^^^^^^^^^^^^^^^^^^^\n",
      "  File \"/var/folders/wl/j68ws2ns3558nbvlc6n6ykbm0000gp/T/ipykernel_63208/435110327.py\", line 50, in get_player_game_log\n",
      "    return rb_game_log(game_log, season)\n",
      "           ^^^^^^^^^^^^^^^^^^^^^^^^^^^^^\n",
      "  File \"/var/folders/wl/j68ws2ns3558nbvlc6n6ykbm0000gp/T/ipykernel_63208/435110327.py\", line 295, in rb_game_log\n",
      "    att = elements[10].text # CHANGED (Checking if RB attempts = \"\", implying they didn't play)\n",
      "          ~~~~~~~~^^^^\n",
      "IndexError: list index out of range\n",
      "Scraping Player Data:  21%|██        | 41/193 [04:20<15:00,  5.92s/it]"
     ]
    },
    {
     "name": "stdout",
     "output_type": "stream",
     "text": [
      "\n",
      "Melvin Gordon RB\n",
      "list index out of range\n"
     ]
    },
    {
     "name": "stderr",
     "output_type": "stream",
     "text": [
      "Scraping Player Data:  39%|███▉      | 75/193 [07:53<12:05,  6.15s/it]Traceback (most recent call last):\n",
      "  File \"/var/folders/wl/j68ws2ns3558nbvlc6n6ykbm0000gp/T/ipykernel_63208/1963778672.py\", line 31, in get_year_data\n",
      "    game_log = get_player_game_log(player=name, position=i[\"position\"], season=season)\n",
      "               ^^^^^^^^^^^^^^^^^^^^^^^^^^^^^^^^^^^^^^^^^^^^^^^^^^^^^^^^^^^^^^^^^^^^^^^\n",
      "  File \"/var/folders/wl/j68ws2ns3558nbvlc6n6ykbm0000gp/T/ipykernel_63208/435110327.py\", line 36, in get_player_game_log\n",
      "    href = get_href(player, position, season, player_list)\n",
      "           ^^^^^^^^^^^^^^^^^^^^^^^^^^^^^^^^^^^^^^^^^^^^^^^\n",
      "  File \"/var/folders/wl/j68ws2ns3558nbvlc6n6ykbm0000gp/T/ipykernel_63208/435110327.py\", line 61, in get_href\n",
      "    raise Exception('Cannot find a ' + position + ' named ' + player + ' from ' + str(season))\n",
      "Exception: Cannot find a WR named Robby Anderson from 2019\n",
      "Scraping Player Data:  39%|███▉      | 76/193 [07:58<11:28,  5.88s/it]"
     ]
    },
    {
     "name": "stdout",
     "output_type": "stream",
     "text": [
      "\n",
      "Robby Anderson WR\n",
      "Cannot find a WR named Robby Anderson from 2019\n"
     ]
    },
    {
     "name": "stderr",
     "output_type": "stream",
     "text": [
      "Scraping Player Data:  53%|█████▎    | 103/193 [10:43<09:21,  6.24s/it]Traceback (most recent call last):\n",
      "  File \"/var/folders/wl/j68ws2ns3558nbvlc6n6ykbm0000gp/T/ipykernel_63208/1963778672.py\", line 31, in get_year_data\n",
      "    game_log = get_player_game_log(player=name, position=i[\"position\"], season=season)\n",
      "               ^^^^^^^^^^^^^^^^^^^^^^^^^^^^^^^^^^^^^^^^^^^^^^^^^^^^^^^^^^^^^^^^^^^^^^^\n",
      "  File \"/var/folders/wl/j68ws2ns3558nbvlc6n6ykbm0000gp/T/ipykernel_63208/435110327.py\", line 50, in get_player_game_log\n",
      "    return rb_game_log(game_log, season)\n",
      "           ^^^^^^^^^^^^^^^^^^^^^^^^^^^^^\n",
      "  File \"/var/folders/wl/j68ws2ns3558nbvlc6n6ykbm0000gp/T/ipykernel_63208/435110327.py\", line 295, in rb_game_log\n",
      "    att = elements[10].text # CHANGED (Checking if RB attempts = \"\", implying they didn't play)\n",
      "          ~~~~~~~~^^^^\n",
      "IndexError: list index out of range\n",
      "Scraping Player Data:  54%|█████▍    | 104/193 [10:49<09:05,  6.13s/it]"
     ]
    },
    {
     "name": "stdout",
     "output_type": "stream",
     "text": [
      "\n",
      "Kareem Hunt RB\n",
      "list index out of range\n"
     ]
    },
    {
     "name": "stderr",
     "output_type": "stream",
     "text": [
      "Scraping Player Data:  75%|███████▍  | 144/193 [14:51<04:55,  6.03s/it]Traceback (most recent call last):\n",
      "  File \"/var/folders/wl/j68ws2ns3558nbvlc6n6ykbm0000gp/T/ipykernel_63208/1963778672.py\", line 31, in get_year_data\n",
      "    game_log = get_player_game_log(player=name, position=i[\"position\"], season=season)\n",
      "               ^^^^^^^^^^^^^^^^^^^^^^^^^^^^^^^^^^^^^^^^^^^^^^^^^^^^^^^^^^^^^^^^^^^^^^^\n",
      "  File \"/var/folders/wl/j68ws2ns3558nbvlc6n6ykbm0000gp/T/ipykernel_63208/435110327.py\", line 36, in get_player_game_log\n",
      "    href = get_href(player, position, season, player_list)\n",
      "           ^^^^^^^^^^^^^^^^^^^^^^^^^^^^^^^^^^^^^^^^^^^^^^^\n",
      "  File \"/var/folders/wl/j68ws2ns3558nbvlc6n6ykbm0000gp/T/ipykernel_63208/435110327.py\", line 61, in get_href\n",
      "    raise Exception('Cannot find a ' + position + ' named ' + player + ' from ' + str(season))\n",
      "Exception: Cannot find a QB named Mitch Trubisky from 2019\n",
      "Scraping Player Data:  75%|███████▌  | 145/193 [15:00<05:20,  6.69s/it]"
     ]
    },
    {
     "name": "stdout",
     "output_type": "stream",
     "text": [
      "\n",
      "Mitch Trubisky QB\n",
      "Cannot find a QB named Mitch Trubisky from 2019\n"
     ]
    },
    {
     "name": "stderr",
     "output_type": "stream",
     "text": [
      "Scraping Player Data:  79%|███████▉  | 152/193 [15:37<03:36,  5.27s/it]Traceback (most recent call last):\n",
      "  File \"/var/folders/wl/j68ws2ns3558nbvlc6n6ykbm0000gp/T/ipykernel_63208/1963778672.py\", line 31, in get_year_data\n",
      "    game_log = get_player_game_log(player=name, position=i[\"position\"], season=season)\n",
      "               ^^^^^^^^^^^^^^^^^^^^^^^^^^^^^^^^^^^^^^^^^^^^^^^^^^^^^^^^^^^^^^^^^^^^^^^\n",
      "  File \"/var/folders/wl/j68ws2ns3558nbvlc6n6ykbm0000gp/T/ipykernel_63208/435110327.py\", line 50, in get_player_game_log\n",
      "    return rb_game_log(game_log, season)\n",
      "           ^^^^^^^^^^^^^^^^^^^^^^^^^^^^^\n",
      "  File \"/var/folders/wl/j68ws2ns3558nbvlc6n6ykbm0000gp/T/ipykernel_63208/435110327.py\", line 325, in rb_game_log\n",
      "    ).text != '' else data['tgt'].append(0)\n",
      "      ^^^^\n",
      "AttributeError: 'NoneType' object has no attribute 'text'\n",
      "Scraping Player Data:  79%|███████▉  | 153/193 [15:43<03:37,  5.44s/it]"
     ]
    },
    {
     "name": "stdout",
     "output_type": "stream",
     "text": [
      "\n",
      "Damien Harris RB\n",
      "'NoneType' object has no attribute 'text'\n"
     ]
    },
    {
     "name": "stderr",
     "output_type": "stream",
     "text": [
      "Scraping Player Data:  87%|████████▋ | 167/193 [17:06<02:35,  5.99s/it]Traceback (most recent call last):\n",
      "  File \"/var/folders/wl/j68ws2ns3558nbvlc6n6ykbm0000gp/T/ipykernel_63208/1963778672.py\", line 31, in get_year_data\n",
      "    game_log = get_player_game_log(player=name, position=i[\"position\"], season=season)\n",
      "               ^^^^^^^^^^^^^^^^^^^^^^^^^^^^^^^^^^^^^^^^^^^^^^^^^^^^^^^^^^^^^^^^^^^^^^^\n",
      "  File \"/var/folders/wl/j68ws2ns3558nbvlc6n6ykbm0000gp/T/ipykernel_63208/435110327.py\", line 36, in get_player_game_log\n",
      "    href = get_href(player, position, season, player_list)\n",
      "           ^^^^^^^^^^^^^^^^^^^^^^^^^^^^^^^^^^^^^^^^^^^^^^^\n",
      "  File \"/var/folders/wl/j68ws2ns3558nbvlc6n6ykbm0000gp/T/ipykernel_63208/435110327.py\", line 61, in get_href\n",
      "    raise Exception('Cannot find a ' + position + ' named ' + player + ' from ' + str(season))\n",
      "Exception: Cannot find a RB named CJ Anderson from 2019\n",
      "Scraping Player Data:  87%|████████▋ | 168/193 [17:11<02:23,  5.76s/it]"
     ]
    },
    {
     "name": "stdout",
     "output_type": "stream",
     "text": [
      "\n",
      "CJ Anderson RB\n",
      "Cannot find a RB named CJ Anderson from 2019\n"
     ]
    },
    {
     "name": "stderr",
     "output_type": "stream",
     "text": [
      "Scraping Player Data: 100%|██████████| 193/193 [19:34<00:00,  6.08s/it]\n",
      "Scraping Player Data:  52%|█████▏    | 118/226 [12:13<10:26,  5.80s/it]Traceback (most recent call last):\n",
      "  File \"/var/folders/wl/j68ws2ns3558nbvlc6n6ykbm0000gp/T/ipykernel_63208/1963778672.py\", line 31, in get_year_data\n",
      "    game_log = get_player_game_log(player=name, position=i[\"position\"], season=season)\n",
      "               ^^^^^^^^^^^^^^^^^^^^^^^^^^^^^^^^^^^^^^^^^^^^^^^^^^^^^^^^^^^^^^^^^^^^^^^\n",
      "  File \"/var/folders/wl/j68ws2ns3558nbvlc6n6ykbm0000gp/T/ipykernel_63208/435110327.py\", line 50, in get_player_game_log\n",
      "    return rb_game_log(game_log, season)\n",
      "           ^^^^^^^^^^^^^^^^^^^^^^^^^^^^^\n",
      "  File \"/var/folders/wl/j68ws2ns3558nbvlc6n6ykbm0000gp/T/ipykernel_63208/435110327.py\", line 285, in rb_game_log\n",
      "    table_rows = soup.find('tbody').find_all('tr')\n",
      "                 ^^^^^^^^^^^^^^^^^^^^^^^^^^^\n",
      "AttributeError: 'NoneType' object has no attribute 'find_all'\n",
      "Scraping Player Data:  53%|█████▎    | 119/226 [12:19<10:22,  5.82s/it]"
     ]
    },
    {
     "name": "stdout",
     "output_type": "stream",
     "text": [
      "\n",
      "Damien Williams RB\n",
      "'NoneType' object has no attribute 'find_all'\n"
     ]
    },
    {
     "name": "stderr",
     "output_type": "stream",
     "text": [
      "Scraping Player Data:  65%|██████▍   | 146/226 [15:00<07:48,  5.85s/it]Traceback (most recent call last):\n",
      "  File \"/var/folders/wl/j68ws2ns3558nbvlc6n6ykbm0000gp/T/ipykernel_63208/1963778672.py\", line 31, in get_year_data\n",
      "    game_log = get_player_game_log(player=name, position=i[\"position\"], season=season)\n",
      "               ^^^^^^^^^^^^^^^^^^^^^^^^^^^^^^^^^^^^^^^^^^^^^^^^^^^^^^^^^^^^^^^^^^^^^^^\n",
      "  File \"/var/folders/wl/j68ws2ns3558nbvlc6n6ykbm0000gp/T/ipykernel_63208/435110327.py\", line 36, in get_player_game_log\n",
      "    href = get_href(player, position, season, player_list)\n",
      "           ^^^^^^^^^^^^^^^^^^^^^^^^^^^^^^^^^^^^^^^^^^^^^^^\n",
      "  File \"/var/folders/wl/j68ws2ns3558nbvlc6n6ykbm0000gp/T/ipykernel_63208/435110327.py\", line 61, in get_href\n",
      "    raise Exception('Cannot find a ' + position + ' named ' + player + ' from ' + str(season))\n",
      "Exception: Cannot find a WR named Robby Anderson from 2020\n",
      "Scraping Player Data:  65%|██████▌   | 147/226 [15:05<07:27,  5.66s/it]"
     ]
    },
    {
     "name": "stdout",
     "output_type": "stream",
     "text": [
      "\n",
      "Robby Anderson WR\n",
      "Cannot find a WR named Robby Anderson from 2020\n"
     ]
    },
    {
     "name": "stderr",
     "output_type": "stream",
     "text": [
      "Scraping Player Data:  67%|██████▋   | 152/226 [15:33<06:54,  5.61s/it]Traceback (most recent call last):\n",
      "  File \"/var/folders/wl/j68ws2ns3558nbvlc6n6ykbm0000gp/T/ipykernel_63208/1963778672.py\", line 31, in get_year_data\n",
      "    game_log = get_player_game_log(player=name, position=i[\"position\"], season=season)\n",
      "               ^^^^^^^^^^^^^^^^^^^^^^^^^^^^^^^^^^^^^^^^^^^^^^^^^^^^^^^^^^^^^^^^^^^^^^^\n",
      "  File \"/var/folders/wl/j68ws2ns3558nbvlc6n6ykbm0000gp/T/ipykernel_63208/435110327.py\", line 36, in get_player_game_log\n",
      "    href = get_href(player, position, season, player_list)\n",
      "           ^^^^^^^^^^^^^^^^^^^^^^^^^^^^^^^^^^^^^^^^^^^^^^^\n",
      "  File \"/var/folders/wl/j68ws2ns3558nbvlc6n6ykbm0000gp/T/ipykernel_63208/435110327.py\", line 61, in get_href\n",
      "    raise Exception('Cannot find a ' + position + ' named ' + player + ' from ' + str(season))\n",
      "Exception: Cannot find a RB named Bryce Love from 2020\n",
      "Scraping Player Data:  68%|██████▊   | 153/226 [15:38<06:41,  5.50s/it]"
     ]
    },
    {
     "name": "stdout",
     "output_type": "stream",
     "text": [
      "\n",
      "Bryce Love RB\n",
      "Cannot find a RB named Bryce Love from 2020\n"
     ]
    },
    {
     "name": "stderr",
     "output_type": "stream",
     "text": [
      "Scraping Player Data:  68%|██████▊   | 154/226 [15:44<06:45,  5.64s/it]Traceback (most recent call last):\n",
      "  File \"/var/folders/wl/j68ws2ns3558nbvlc6n6ykbm0000gp/T/ipykernel_63208/1963778672.py\", line 31, in get_year_data\n",
      "    game_log = get_player_game_log(player=name, position=i[\"position\"], season=season)\n",
      "               ^^^^^^^^^^^^^^^^^^^^^^^^^^^^^^^^^^^^^^^^^^^^^^^^^^^^^^^^^^^^^^^^^^^^^^^\n",
      "  File \"/var/folders/wl/j68ws2ns3558nbvlc6n6ykbm0000gp/T/ipykernel_63208/435110327.py\", line 50, in get_player_game_log\n",
      "    return rb_game_log(game_log, season)\n",
      "           ^^^^^^^^^^^^^^^^^^^^^^^^^^^^^\n",
      "  File \"/var/folders/wl/j68ws2ns3558nbvlc6n6ykbm0000gp/T/ipykernel_63208/435110327.py\", line 285, in rb_game_log\n",
      "    table_rows = soup.find('tbody').find_all('tr')\n",
      "                 ^^^^^^^^^^^^^^^^^^^^^^^^^^^\n",
      "AttributeError: 'NoneType' object has no attribute 'find_all'\n",
      "Scraping Player Data:  69%|██████▊   | 155/226 [15:49<06:41,  5.66s/it]"
     ]
    },
    {
     "name": "stdout",
     "output_type": "stream",
     "text": [
      "\n",
      "Ryquell Armstead RB\n",
      "'NoneType' object has no attribute 'find_all'\n"
     ]
    },
    {
     "name": "stderr",
     "output_type": "stream",
     "text": [
      "Scraping Player Data:  77%|███████▋  | 174/226 [17:45<05:21,  6.18s/it]Traceback (most recent call last):\n",
      "  File \"/var/folders/wl/j68ws2ns3558nbvlc6n6ykbm0000gp/T/ipykernel_63208/1963778672.py\", line 31, in get_year_data\n",
      "    game_log = get_player_game_log(player=name, position=i[\"position\"], season=season)\n",
      "               ^^^^^^^^^^^^^^^^^^^^^^^^^^^^^^^^^^^^^^^^^^^^^^^^^^^^^^^^^^^^^^^^^^^^^^^\n",
      "  File \"/var/folders/wl/j68ws2ns3558nbvlc6n6ykbm0000gp/T/ipykernel_63208/435110327.py\", line 36, in get_player_game_log\n",
      "    href = get_href(player, position, season, player_list)\n",
      "           ^^^^^^^^^^^^^^^^^^^^^^^^^^^^^^^^^^^^^^^^^^^^^^^\n",
      "  File \"/var/folders/wl/j68ws2ns3558nbvlc6n6ykbm0000gp/T/ipykernel_63208/435110327.py\", line 61, in get_href\n",
      "    raise Exception('Cannot find a ' + position + ' named ' + player + ' from ' + str(season))\n",
      "Exception: Cannot find a TE named Chris Herndon IV from 2020\n",
      "Scraping Player Data:  77%|███████▋  | 175/226 [17:51<05:01,  5.91s/it]"
     ]
    },
    {
     "name": "stdout",
     "output_type": "stream",
     "text": [
      "\n",
      "Chris Herndon IV TE\n",
      "Cannot find a TE named Chris Herndon IV from 2020\n"
     ]
    },
    {
     "name": "stderr",
     "output_type": "stream",
     "text": [
      "Scraping Player Data:  82%|████████▏ | 185/226 [18:52<04:07,  6.05s/it]Traceback (most recent call last):\n",
      "  File \"/var/folders/wl/j68ws2ns3558nbvlc6n6ykbm0000gp/T/ipykernel_63208/1963778672.py\", line 31, in get_year_data\n",
      "    game_log = get_player_game_log(player=name, position=i[\"position\"], season=season)\n",
      "               ^^^^^^^^^^^^^^^^^^^^^^^^^^^^^^^^^^^^^^^^^^^^^^^^^^^^^^^^^^^^^^^^^^^^^^^\n",
      "  File \"/var/folders/wl/j68ws2ns3558nbvlc6n6ykbm0000gp/T/ipykernel_63208/435110327.py\", line 50, in get_player_game_log\n",
      "    return rb_game_log(game_log, season)\n",
      "           ^^^^^^^^^^^^^^^^^^^^^^^^^^^^^\n",
      "  File \"/var/folders/wl/j68ws2ns3558nbvlc6n6ykbm0000gp/T/ipykernel_63208/435110327.py\", line 316, in rb_game_log\n",
      "    ].find('td', {'data-stat': 'rush_att'}).text != '' else data['rush_att'].append(0)\n",
      "                                            ^^^^\n",
      "AttributeError: 'NoneType' object has no attribute 'text'\n",
      "Scraping Player Data:  82%|████████▏ | 186/226 [18:59<04:10,  6.27s/it]"
     ]
    },
    {
     "name": "stdout",
     "output_type": "stream",
     "text": [
      "\n",
      "Lamar Miller RB\n",
      "'NoneType' object has no attribute 'text'\n"
     ]
    },
    {
     "name": "stderr",
     "output_type": "stream",
     "text": [
      "Scraping Player Data:  83%|████████▎ | 188/226 [19:12<04:04,  6.43s/it]Traceback (most recent call last):\n",
      "  File \"/var/folders/wl/j68ws2ns3558nbvlc6n6ykbm0000gp/T/ipykernel_63208/1963778672.py\", line 31, in get_year_data\n",
      "    game_log = get_player_game_log(player=name, position=i[\"position\"], season=season)\n",
      "               ^^^^^^^^^^^^^^^^^^^^^^^^^^^^^^^^^^^^^^^^^^^^^^^^^^^^^^^^^^^^^^^^^^^^^^^\n",
      "  File \"/var/folders/wl/j68ws2ns3558nbvlc6n6ykbm0000gp/T/ipykernel_63208/435110327.py\", line 50, in get_player_game_log\n",
      "    return rb_game_log(game_log, season)\n",
      "           ^^^^^^^^^^^^^^^^^^^^^^^^^^^^^\n",
      "  File \"/var/folders/wl/j68ws2ns3558nbvlc6n6ykbm0000gp/T/ipykernel_63208/435110327.py\", line 295, in rb_game_log\n",
      "    att = elements[10].text # CHANGED (Checking if RB attempts = \"\", implying they didn't play)\n",
      "          ~~~~~~~~^^^^\n",
      "IndexError: list index out of range\n",
      "Scraping Player Data:  84%|████████▎ | 189/226 [19:18<03:51,  6.25s/it]"
     ]
    },
    {
     "name": "stdout",
     "output_type": "stream",
     "text": [
      "\n",
      "DeAndre Washington RB\n",
      "list index out of range\n"
     ]
    },
    {
     "name": "stderr",
     "output_type": "stream",
     "text": [
      "Scraping Player Data:  85%|████████▍ | 192/226 [19:38<03:40,  6.50s/it]Traceback (most recent call last):\n",
      "  File \"/var/folders/wl/j68ws2ns3558nbvlc6n6ykbm0000gp/T/ipykernel_63208/1963778672.py\", line 31, in get_year_data\n",
      "    game_log = get_player_game_log(player=name, position=i[\"position\"], season=season)\n",
      "               ^^^^^^^^^^^^^^^^^^^^^^^^^^^^^^^^^^^^^^^^^^^^^^^^^^^^^^^^^^^^^^^^^^^^^^^\n",
      "  File \"/var/folders/wl/j68ws2ns3558nbvlc6n6ykbm0000gp/T/ipykernel_63208/435110327.py\", line 50, in get_player_game_log\n",
      "    return rb_game_log(game_log, season)\n",
      "           ^^^^^^^^^^^^^^^^^^^^^^^^^^^^^\n",
      "  File \"/var/folders/wl/j68ws2ns3558nbvlc6n6ykbm0000gp/T/ipykernel_63208/435110327.py\", line 295, in rb_game_log\n",
      "    att = elements[10].text # CHANGED (Checking if RB attempts = \"\", implying they didn't play)\n",
      "          ~~~~~~~~^^^^\n",
      "IndexError: list index out of range\n",
      "Scraping Player Data:  85%|████████▌ | 193/226 [19:44<03:28,  6.33s/it]"
     ]
    },
    {
     "name": "stdout",
     "output_type": "stream",
     "text": [
      "\n",
      "Rashaad Penny RB\n",
      "list index out of range\n"
     ]
    },
    {
     "name": "stderr",
     "output_type": "stream",
     "text": [
      "Scraping Player Data:  96%|█████████▋| 218/226 [22:02<00:41,  5.21s/it]Traceback (most recent call last):\n",
      "  File \"/var/folders/wl/j68ws2ns3558nbvlc6n6ykbm0000gp/T/ipykernel_63208/1963778672.py\", line 31, in get_year_data\n",
      "    game_log = get_player_game_log(player=name, position=i[\"position\"], season=season)\n",
      "               ^^^^^^^^^^^^^^^^^^^^^^^^^^^^^^^^^^^^^^^^^^^^^^^^^^^^^^^^^^^^^^^^^^^^^^^\n",
      "  File \"/var/folders/wl/j68ws2ns3558nbvlc6n6ykbm0000gp/T/ipykernel_63208/435110327.py\", line 48, in get_player_game_log\n",
      "    return wr_game_log(game_log, season)\n",
      "           ^^^^^^^^^^^^^^^^^^^^^^^^^^^^^\n",
      "  File \"/var/folders/wl/j68ws2ns3558nbvlc6n6ykbm0000gp/T/ipykernel_63208/435110327.py\", line 209, in wr_game_log\n",
      "    table_rows = soup.find('tbody').find_all('tr')\n",
      "                 ^^^^^^^^^^^^^^^^^^^^^^^^^^^\n",
      "AttributeError: 'NoneType' object has no attribute 'find_all'\n",
      "Scraping Player Data:  97%|█████████▋| 219/226 [22:08<00:37,  5.40s/it]"
     ]
    },
    {
     "name": "stdout",
     "output_type": "stream",
     "text": [
      "\n",
      "Tyrell Williams WR\n",
      "'NoneType' object has no attribute 'find_all'\n"
     ]
    },
    {
     "name": "stderr",
     "output_type": "stream",
     "text": [
      "Scraping Player Data: 100%|██████████| 226/226 [22:43<00:00,  6.03s/it]\n",
      "Scraping Player Data:  24%|██▍       | 54/224 [05:39<18:43,  6.61s/it]Traceback (most recent call last):\n",
      "  File \"/var/folders/wl/j68ws2ns3558nbvlc6n6ykbm0000gp/T/ipykernel_63208/1963778672.py\", line 31, in get_year_data\n",
      "    game_log = get_player_game_log(player=name, position=i[\"position\"], season=season)\n",
      "               ^^^^^^^^^^^^^^^^^^^^^^^^^^^^^^^^^^^^^^^^^^^^^^^^^^^^^^^^^^^^^^^^^^^^^^^\n",
      "  File \"/var/folders/wl/j68ws2ns3558nbvlc6n6ykbm0000gp/T/ipykernel_63208/435110327.py\", line 50, in get_player_game_log\n",
      "    return rb_game_log(game_log, season)\n",
      "           ^^^^^^^^^^^^^^^^^^^^^^^^^^^^^\n",
      "  File \"/var/folders/wl/j68ws2ns3558nbvlc6n6ykbm0000gp/T/ipykernel_63208/435110327.py\", line 325, in rb_game_log\n",
      "    ).text != '' else data['tgt'].append(0)\n",
      "      ^^^^\n",
      "AttributeError: 'NoneType' object has no attribute 'text'\n",
      "Scraping Player Data:  25%|██▍       | 55/224 [05:45<18:09,  6.45s/it]"
     ]
    },
    {
     "name": "stdout",
     "output_type": "stream",
     "text": [
      "\n",
      "Raheem Mostert RB\n",
      "'NoneType' object has no attribute 'text'\n"
     ]
    },
    {
     "name": "stderr",
     "output_type": "stream",
     "text": [
      "Scraping Player Data:  41%|████      | 92/224 [09:40<13:28,  6.13s/it]Traceback (most recent call last):\n",
      "  File \"/var/folders/wl/j68ws2ns3558nbvlc6n6ykbm0000gp/T/ipykernel_63208/1963778672.py\", line 31, in get_year_data\n",
      "    game_log = get_player_game_log(player=name, position=i[\"position\"], season=season)\n",
      "               ^^^^^^^^^^^^^^^^^^^^^^^^^^^^^^^^^^^^^^^^^^^^^^^^^^^^^^^^^^^^^^^^^^^^^^^\n",
      "  File \"/var/folders/wl/j68ws2ns3558nbvlc6n6ykbm0000gp/T/ipykernel_63208/435110327.py\", line 36, in get_player_game_log\n",
      "    href = get_href(player, position, season, player_list)\n",
      "           ^^^^^^^^^^^^^^^^^^^^^^^^^^^^^^^^^^^^^^^^^^^^^^^\n",
      "  File \"/var/folders/wl/j68ws2ns3558nbvlc6n6ykbm0000gp/T/ipykernel_63208/435110327.py\", line 61, in get_href\n",
      "    raise Exception('Cannot find a ' + position + ' named ' + player + ' from ' + str(season))\n",
      "Exception: Cannot find a WR named Robby Anderson from 2021\n",
      "Scraping Player Data:  42%|████▏     | 93/224 [09:45<12:46,  5.85s/it]"
     ]
    },
    {
     "name": "stdout",
     "output_type": "stream",
     "text": [
      "\n",
      "Robby Anderson WR\n",
      "Cannot find a WR named Robby Anderson from 2021\n"
     ]
    },
    {
     "name": "stderr",
     "output_type": "stream",
     "text": [
      "Scraping Player Data:  64%|██████▍   | 143/224 [14:54<08:39,  6.41s/it]Traceback (most recent call last):\n",
      "  File \"/var/folders/wl/j68ws2ns3558nbvlc6n6ykbm0000gp/T/ipykernel_63208/1963778672.py\", line 31, in get_year_data\n",
      "    game_log = get_player_game_log(player=name, position=i[\"position\"], season=season)\n",
      "               ^^^^^^^^^^^^^^^^^^^^^^^^^^^^^^^^^^^^^^^^^^^^^^^^^^^^^^^^^^^^^^^^^^^^^^^\n",
      "  File \"/var/folders/wl/j68ws2ns3558nbvlc6n6ykbm0000gp/T/ipykernel_63208/435110327.py\", line 36, in get_player_game_log\n",
      "    href = get_href(player, position, season, player_list)\n",
      "           ^^^^^^^^^^^^^^^^^^^^^^^^^^^^^^^^^^^^^^^^^^^^^^^\n",
      "  File \"/var/folders/wl/j68ws2ns3558nbvlc6n6ykbm0000gp/T/ipykernel_63208/435110327.py\", line 61, in get_href\n",
      "    raise Exception('Cannot find a ' + position + ' named ' + player + ' from ' + str(season))\n",
      "Exception: Cannot find a RB named Xavier Jones from 2021\n",
      "Scraping Player Data:  64%|██████▍   | 144/224 [15:00<08:05,  6.07s/it]"
     ]
    },
    {
     "name": "stdout",
     "output_type": "stream",
     "text": [
      "\n",
      "Xavier Jones RB\n",
      "Cannot find a RB named Xavier Jones from 2021\n"
     ]
    },
    {
     "name": "stderr",
     "output_type": "stream",
     "text": [
      "Scraping Player Data:  81%|████████  | 181/224 [18:35<04:14,  5.92s/it]Traceback (most recent call last):\n",
      "  File \"/var/folders/wl/j68ws2ns3558nbvlc6n6ykbm0000gp/T/ipykernel_63208/1963778672.py\", line 31, in get_year_data\n",
      "    game_log = get_player_game_log(player=name, position=i[\"position\"], season=season)\n",
      "               ^^^^^^^^^^^^^^^^^^^^^^^^^^^^^^^^^^^^^^^^^^^^^^^^^^^^^^^^^^^^^^^^^^^^^^^\n",
      "  File \"/var/folders/wl/j68ws2ns3558nbvlc6n6ykbm0000gp/T/ipykernel_63208/435110327.py\", line 36, in get_player_game_log\n",
      "    href = get_href(player, position, season, player_list)\n",
      "           ^^^^^^^^^^^^^^^^^^^^^^^^^^^^^^^^^^^^^^^^^^^^^^^\n",
      "  File \"/var/folders/wl/j68ws2ns3558nbvlc6n6ykbm0000gp/T/ipykernel_63208/435110327.py\", line 61, in get_href\n",
      "    raise Exception('Cannot find a ' + position + ' named ' + player + ' from ' + str(season))\n",
      "Exception: Cannot find a RB named Tony Jones Jr. from 2021\n",
      "Scraping Player Data:  81%|████████▏ | 182/224 [18:41<04:00,  5.72s/it]"
     ]
    },
    {
     "name": "stdout",
     "output_type": "stream",
     "text": [
      "\n",
      "Tony Jones Jr. RB\n",
      "Cannot find a RB named Tony Jones Jr. from 2021\n"
     ]
    },
    {
     "name": "stderr",
     "output_type": "stream",
     "text": [
      "Scraping Player Data: 100%|██████████| 224/224 [22:48<00:00,  6.11s/it]\n",
      "Scraping Player Data:  63%|██████▎   | 122/195 [12:40<07:37,  6.27s/it]Traceback (most recent call last):\n",
      "  File \"/var/folders/wl/j68ws2ns3558nbvlc6n6ykbm0000gp/T/ipykernel_63208/1963778672.py\", line 31, in get_year_data\n",
      "    game_log = get_player_game_log(player=name, position=i[\"position\"], season=season)\n",
      "               ^^^^^^^^^^^^^^^^^^^^^^^^^^^^^^^^^^^^^^^^^^^^^^^^^^^^^^^^^^^^^^^^^^^^^^^\n",
      "  File \"/var/folders/wl/j68ws2ns3558nbvlc6n6ykbm0000gp/T/ipykernel_63208/435110327.py\", line 50, in get_player_game_log\n",
      "    return rb_game_log(game_log, season)\n",
      "           ^^^^^^^^^^^^^^^^^^^^^^^^^^^^^\n",
      "  File \"/var/folders/wl/j68ws2ns3558nbvlc6n6ykbm0000gp/T/ipykernel_63208/435110327.py\", line 325, in rb_game_log\n",
      "    ).text != '' else data['tgt'].append(0)\n",
      "      ^^^^\n",
      "AttributeError: 'NoneType' object has no attribute 'text'\n",
      "Scraping Player Data:  63%|██████▎   | 123/195 [12:46<07:19,  6.10s/it]"
     ]
    },
    {
     "name": "stdout",
     "output_type": "stream",
     "text": [
      "\n",
      "Gus Edwards RB\n",
      "'NoneType' object has no attribute 'text'\n"
     ]
    },
    {
     "name": "stderr",
     "output_type": "stream",
     "text": [
      "Scraping Player Data:  67%|██████▋   | 130/195 [13:29<06:54,  6.38s/it]Traceback (most recent call last):\n",
      "  File \"/var/folders/wl/j68ws2ns3558nbvlc6n6ykbm0000gp/T/ipykernel_63208/1963778672.py\", line 31, in get_year_data\n",
      "    game_log = get_player_game_log(player=name, position=i[\"position\"], season=season)\n",
      "               ^^^^^^^^^^^^^^^^^^^^^^^^^^^^^^^^^^^^^^^^^^^^^^^^^^^^^^^^^^^^^^^^^^^^^^^\n",
      "  File \"/var/folders/wl/j68ws2ns3558nbvlc6n6ykbm0000gp/T/ipykernel_63208/435110327.py\", line 50, in get_player_game_log\n",
      "    return rb_game_log(game_log, season)\n",
      "           ^^^^^^^^^^^^^^^^^^^^^^^^^^^^^\n",
      "  File \"/var/folders/wl/j68ws2ns3558nbvlc6n6ykbm0000gp/T/ipykernel_63208/435110327.py\", line 325, in rb_game_log\n",
      "    ).text != '' else data['tgt'].append(0)\n",
      "      ^^^^\n",
      "AttributeError: 'NoneType' object has no attribute 'text'\n",
      "Scraping Player Data:  67%|██████▋   | 131/195 [13:35<06:43,  6.30s/it]"
     ]
    },
    {
     "name": "stdout",
     "output_type": "stream",
     "text": [
      "\n",
      "Trey Sermon RB\n",
      "'NoneType' object has no attribute 'text'\n"
     ]
    },
    {
     "name": "stderr",
     "output_type": "stream",
     "text": [
      "Scraping Player Data:  83%|████████▎ | 161/195 [16:28<03:04,  5.43s/it]Traceback (most recent call last):\n",
      "  File \"/var/folders/wl/j68ws2ns3558nbvlc6n6ykbm0000gp/T/ipykernel_63208/1963778672.py\", line 31, in get_year_data\n",
      "    game_log = get_player_game_log(player=name, position=i[\"position\"], season=season)\n",
      "               ^^^^^^^^^^^^^^^^^^^^^^^^^^^^^^^^^^^^^^^^^^^^^^^^^^^^^^^^^^^^^^^^^^^^^^^\n",
      "  File \"/var/folders/wl/j68ws2ns3558nbvlc6n6ykbm0000gp/T/ipykernel_63208/435110327.py\", line 50, in get_player_game_log\n",
      "    return rb_game_log(game_log, season)\n",
      "           ^^^^^^^^^^^^^^^^^^^^^^^^^^^^^\n",
      "  File \"/var/folders/wl/j68ws2ns3558nbvlc6n6ykbm0000gp/T/ipykernel_63208/435110327.py\", line 325, in rb_game_log\n",
      "    ).text != '' else data['tgt'].append(0)\n",
      "      ^^^^\n",
      "AttributeError: 'NoneType' object has no attribute 'text'\n",
      "Scraping Player Data:  83%|████████▎ | 162/195 [16:34<03:04,  5.59s/it]"
     ]
    },
    {
     "name": "stdout",
     "output_type": "stream",
     "text": [
      "\n",
      "Tyrion Davis-Price RB\n",
      "'NoneType' object has no attribute 'text'\n"
     ]
    },
    {
     "name": "stderr",
     "output_type": "stream",
     "text": [
      "Scraping Player Data:  86%|████████▌ | 168/195 [17:08<02:35,  5.74s/it]Traceback (most recent call last):\n",
      "  File \"/var/folders/wl/j68ws2ns3558nbvlc6n6ykbm0000gp/T/ipykernel_63208/1963778672.py\", line 31, in get_year_data\n",
      "    game_log = get_player_game_log(player=name, position=i[\"position\"], season=season)\n",
      "               ^^^^^^^^^^^^^^^^^^^^^^^^^^^^^^^^^^^^^^^^^^^^^^^^^^^^^^^^^^^^^^^^^^^^^^^\n",
      "  File \"/var/folders/wl/j68ws2ns3558nbvlc6n6ykbm0000gp/T/ipykernel_63208/435110327.py\", line 50, in get_player_game_log\n",
      "    return rb_game_log(game_log, season)\n",
      "           ^^^^^^^^^^^^^^^^^^^^^^^^^^^^^\n",
      "  File \"/var/folders/wl/j68ws2ns3558nbvlc6n6ykbm0000gp/T/ipykernel_63208/435110327.py\", line 325, in rb_game_log\n",
      "    ).text != '' else data['tgt'].append(0)\n",
      "      ^^^^\n",
      "AttributeError: 'NoneType' object has no attribute 'text'\n",
      "Scraping Player Data:  87%|████████▋ | 169/195 [17:14<02:30,  5.78s/it]"
     ]
    },
    {
     "name": "stdout",
     "output_type": "stream",
     "text": [
      "\n",
      "Zamir White RB\n",
      "'NoneType' object has no attribute 'text'\n"
     ]
    },
    {
     "name": "stderr",
     "output_type": "stream",
     "text": [
      "Scraping Player Data: 100%|██████████| 195/195 [19:43<00:00,  6.07s/it]\n",
      "Scraping Player Data:  16%|█▌        | 23/143 [02:25<12:24,  6.20s/it]Traceback (most recent call last):\n",
      "  File \"/var/folders/wl/j68ws2ns3558nbvlc6n6ykbm0000gp/T/ipykernel_63208/1963778672.py\", line 31, in get_year_data\n",
      "    game_log = get_player_game_log(player=name, position=i[\"position\"], season=season)\n",
      "               ^^^^^^^^^^^^^^^^^^^^^^^^^^^^^^^^^^^^^^^^^^^^^^^^^^^^^^^^^^^^^^^^^^^^^^^\n",
      "  File \"/var/folders/wl/j68ws2ns3558nbvlc6n6ykbm0000gp/T/ipykernel_63208/435110327.py\", line 36, in get_player_game_log\n",
      "    href = get_href(player, position, season, player_list)\n",
      "           ^^^^^^^^^^^^^^^^^^^^^^^^^^^^^^^^^^^^^^^^^^^^^^^\n",
      "  File \"/var/folders/wl/j68ws2ns3558nbvlc6n6ykbm0000gp/T/ipykernel_63208/435110327.py\", line 61, in get_href\n",
      "    raise Exception('Cannot find a ' + position + ' named ' + player + ' from ' + str(season))\n",
      "Exception: Cannot find a RB named Travis Etienne Jr. from 2023\n",
      "Scraping Player Data:  17%|█▋        | 24/143 [02:31<11:42,  5.90s/it]"
     ]
    },
    {
     "name": "stdout",
     "output_type": "stream",
     "text": [
      "\n",
      "Travis Etienne Jr. RB\n",
      "Cannot find a RB named Travis Etienne Jr. from 2023\n"
     ]
    },
    {
     "name": "stderr",
     "output_type": "stream",
     "text": [
      "Scraping Player Data:  24%|██▍       | 35/143 [03:37<10:48,  6.01s/it]Traceback (most recent call last):\n",
      "  File \"/var/folders/wl/j68ws2ns3558nbvlc6n6ykbm0000gp/T/ipykernel_63208/1963778672.py\", line 31, in get_year_data\n",
      "    game_log = get_player_game_log(player=name, position=i[\"position\"], season=season)\n",
      "               ^^^^^^^^^^^^^^^^^^^^^^^^^^^^^^^^^^^^^^^^^^^^^^^^^^^^^^^^^^^^^^^^^^^^^^^\n",
      "  File \"/var/folders/wl/j68ws2ns3558nbvlc6n6ykbm0000gp/T/ipykernel_63208/435110327.py\", line 36, in get_player_game_log\n",
      "    href = get_href(player, position, season, player_list)\n",
      "           ^^^^^^^^^^^^^^^^^^^^^^^^^^^^^^^^^^^^^^^^^^^^^^^\n",
      "  File \"/var/folders/wl/j68ws2ns3558nbvlc6n6ykbm0000gp/T/ipykernel_63208/435110327.py\", line 61, in get_href\n",
      "    raise Exception('Cannot find a ' + position + ' named ' + player + ' from ' + str(season))\n",
      "Exception: Cannot find a WR named DJ Moore from 2023\n",
      "Scraping Player Data:  25%|██▌       | 36/143 [03:42<10:21,  5.80s/it]"
     ]
    },
    {
     "name": "stdout",
     "output_type": "stream",
     "text": [
      "\n",
      "DJ Moore WR\n",
      "Cannot find a WR named DJ Moore from 2023\n"
     ]
    },
    {
     "name": "stderr",
     "output_type": "stream",
     "text": [
      "Scraping Player Data:  28%|██▊       | 40/143 [04:06<10:04,  5.87s/it]Traceback (most recent call last):\n",
      "  File \"/var/folders/wl/j68ws2ns3558nbvlc6n6ykbm0000gp/T/ipykernel_63208/1963778672.py\", line 31, in get_year_data\n",
      "    game_log = get_player_game_log(player=name, position=i[\"position\"], season=season)\n",
      "               ^^^^^^^^^^^^^^^^^^^^^^^^^^^^^^^^^^^^^^^^^^^^^^^^^^^^^^^^^^^^^^^^^^^^^^^\n",
      "  File \"/var/folders/wl/j68ws2ns3558nbvlc6n6ykbm0000gp/T/ipykernel_63208/435110327.py\", line 36, in get_player_game_log\n",
      "    href = get_href(player, position, season, player_list)\n",
      "           ^^^^^^^^^^^^^^^^^^^^^^^^^^^^^^^^^^^^^^^^^^^^^^^\n",
      "  File \"/var/folders/wl/j68ws2ns3558nbvlc6n6ykbm0000gp/T/ipykernel_63208/435110327.py\", line 61, in get_href\n",
      "    raise Exception('Cannot find a ' + position + ' named ' + player + ' from ' + str(season))\n",
      "Exception: Cannot find a WR named Deebo Samuel Sr. from 2023\n",
      "Scraping Player Data:  29%|██▊       | 41/143 [04:12<10:17,  6.05s/it]"
     ]
    },
    {
     "name": "stdout",
     "output_type": "stream",
     "text": [
      "\n",
      "Deebo Samuel Sr. WR\n",
      "Cannot find a WR named Deebo Samuel Sr. from 2023\n"
     ]
    },
    {
     "name": "stderr",
     "output_type": "stream",
     "text": [
      "Scraping Player Data:  42%|████▏     | 60/143 [06:09<08:43,  6.31s/it]Traceback (most recent call last):\n",
      "  File \"/var/folders/wl/j68ws2ns3558nbvlc6n6ykbm0000gp/T/ipykernel_63208/1963778672.py\", line 31, in get_year_data\n",
      "    game_log = get_player_game_log(player=name, position=i[\"position\"], season=season)\n",
      "               ^^^^^^^^^^^^^^^^^^^^^^^^^^^^^^^^^^^^^^^^^^^^^^^^^^^^^^^^^^^^^^^^^^^^^^^\n",
      "  File \"/var/folders/wl/j68ws2ns3558nbvlc6n6ykbm0000gp/T/ipykernel_63208/435110327.py\", line 36, in get_player_game_log\n",
      "    href = get_href(player, position, season, player_list)\n",
      "           ^^^^^^^^^^^^^^^^^^^^^^^^^^^^^^^^^^^^^^^^^^^^^^^\n",
      "  File \"/var/folders/wl/j68ws2ns3558nbvlc6n6ykbm0000gp/T/ipykernel_63208/435110327.py\", line 61, in get_href\n",
      "    raise Exception('Cannot find a ' + position + ' named ' + player + ' from ' + str(season))\n",
      "Exception: Cannot find a WR named DK Metcalf from 2023\n",
      "Scraping Player Data:  43%|████▎     | 61/143 [06:15<08:23,  6.14s/it]"
     ]
    },
    {
     "name": "stdout",
     "output_type": "stream",
     "text": [
      "\n",
      "DK Metcalf WR\n",
      "Cannot find a WR named DK Metcalf from 2023\n"
     ]
    },
    {
     "name": "stderr",
     "output_type": "stream",
     "text": [
      "Scraping Player Data:  74%|███████▍  | 106/143 [11:02<03:58,  6.46s/it]Traceback (most recent call last):\n",
      "  File \"/var/folders/wl/j68ws2ns3558nbvlc6n6ykbm0000gp/T/ipykernel_63208/1963778672.py\", line 31, in get_year_data\n",
      "    game_log = get_player_game_log(player=name, position=i[\"position\"], season=season)\n",
      "               ^^^^^^^^^^^^^^^^^^^^^^^^^^^^^^^^^^^^^^^^^^^^^^^^^^^^^^^^^^^^^^^^^^^^^^^\n",
      "  File \"/var/folders/wl/j68ws2ns3558nbvlc6n6ykbm0000gp/T/ipykernel_63208/435110327.py\", line 36, in get_player_game_log\n",
      "    href = get_href(player, position, season, player_list)\n",
      "           ^^^^^^^^^^^^^^^^^^^^^^^^^^^^^^^^^^^^^^^^^^^^^^^\n",
      "  File \"/var/folders/wl/j68ws2ns3558nbvlc6n6ykbm0000gp/T/ipykernel_63208/435110327.py\", line 61, in get_href\n",
      "    raise Exception('Cannot find a ' + position + ' named ' + player + ' from ' + str(season))\n",
      "Exception: Cannot find a WR named Gabe Davis from 2023\n",
      "Scraping Player Data:  75%|███████▍  | 107/143 [11:07<03:39,  6.09s/it]"
     ]
    },
    {
     "name": "stdout",
     "output_type": "stream",
     "text": [
      "\n",
      "Gabe Davis WR\n",
      "Cannot find a WR named Gabe Davis from 2023\n"
     ]
    },
    {
     "name": "stderr",
     "output_type": "stream",
     "text": [
      "Scraping Player Data:  77%|███████▋  | 110/143 [11:25<03:15,  5.92s/it]Traceback (most recent call last):\n",
      "  File \"/var/folders/wl/j68ws2ns3558nbvlc6n6ykbm0000gp/T/ipykernel_63208/1963778672.py\", line 31, in get_year_data\n",
      "    game_log = get_player_game_log(player=name, position=i[\"position\"], season=season)\n",
      "               ^^^^^^^^^^^^^^^^^^^^^^^^^^^^^^^^^^^^^^^^^^^^^^^^^^^^^^^^^^^^^^^^^^^^^^^\n",
      "  File \"/var/folders/wl/j68ws2ns3558nbvlc6n6ykbm0000gp/T/ipykernel_63208/435110327.py\", line 36, in get_player_game_log\n",
      "    href = get_href(player, position, season, player_list)\n",
      "           ^^^^^^^^^^^^^^^^^^^^^^^^^^^^^^^^^^^^^^^^^^^^^^^\n",
      "  File \"/var/folders/wl/j68ws2ns3558nbvlc6n6ykbm0000gp/T/ipykernel_63208/435110327.py\", line 61, in get_href\n",
      "    raise Exception('Cannot find a ' + position + ' named ' + player + ' from ' + str(season))\n",
      "Exception: Cannot find a TE named Taysom Hill from 2023\n",
      "Scraping Player Data:  78%|███████▊  | 111/143 [11:30<03:03,  5.73s/it]"
     ]
    },
    {
     "name": "stdout",
     "output_type": "stream",
     "text": [
      "\n",
      "Taysom Hill TE\n",
      "Cannot find a TE named Taysom Hill from 2023\n"
     ]
    },
    {
     "name": "stderr",
     "output_type": "stream",
     "text": [
      "Scraping Player Data:  99%|█████████▉| 142/143 [14:43<00:06,  6.32s/it]Traceback (most recent call last):\n",
      "  File \"/var/folders/wl/j68ws2ns3558nbvlc6n6ykbm0000gp/T/ipykernel_63208/1963778672.py\", line 31, in get_year_data\n",
      "    game_log = get_player_game_log(player=name, position=i[\"position\"], season=season)\n",
      "               ^^^^^^^^^^^^^^^^^^^^^^^^^^^^^^^^^^^^^^^^^^^^^^^^^^^^^^^^^^^^^^^^^^^^^^^\n",
      "  File \"/var/folders/wl/j68ws2ns3558nbvlc6n6ykbm0000gp/T/ipykernel_63208/435110327.py\", line 36, in get_player_game_log\n",
      "    href = get_href(player, position, season, player_list)\n",
      "           ^^^^^^^^^^^^^^^^^^^^^^^^^^^^^^^^^^^^^^^^^^^^^^^\n",
      "  File \"/var/folders/wl/j68ws2ns3558nbvlc6n6ykbm0000gp/T/ipykernel_63208/435110327.py\", line 61, in get_href\n",
      "    raise Exception('Cannot find a ' + position + ' named ' + player + ' from ' + str(season))\n",
      "Exception: Cannot find a WR named Hollywood Brown from 2023\n",
      "Scraping Player Data: 100%|██████████| 143/143 [14:49<00:00,  6.22s/it]"
     ]
    },
    {
     "name": "stdout",
     "output_type": "stream",
     "text": [
      "\n",
      "Hollywood Brown WR\n",
      "Cannot find a WR named Hollywood Brown from 2023\n"
     ]
    },
    {
     "name": "stderr",
     "output_type": "stream",
     "text": [
      "\n"
     ]
    }
   ],
   "source": [
    "years = [2019, 2020, 2021, 2022, 2023]\n",
    "for year in years:\n",
    "  if year == 2023:\n",
    "    player_list = []\n",
    "    data_2023 = pd.read_csv('data/FantasyPros_Fantasy_Football_Points.csv')\n",
    "    counter = 0\n",
    "    for index, row in data_2023.iterrows():\n",
    "        if counter == 200:\n",
    "            break\n",
    "        counter += 1\n",
    "        name = row['Player']\n",
    "        position = row['Pos']\n",
    "        if position in [\"QB\", \"RB\", \"WR\", \"TE\"]:\n",
    "            player_list.append({\"name\": name, \"position\": position})\n",
    "    df = get_year_data(year, {\"players\": player_list})\n",
    "    df.to_pickle(f'data/fantasy_data_{year}.pickle')\n",
    "    df.to_csv(f'data/fantasy_data_{year}.csv', index=False)\n",
    "  else:\n",
    "    df = get_year_data(year)\n",
    "    df.to_pickle(f'data/fantasy_data_{year}.pickle')\n",
    "    df.to_csv(f'data/fantasy_data_{year}.csv', index=False)"
   ]
  },
  {
   "cell_type": "code",
   "execution_count": null,
   "metadata": {},
   "outputs": [],
   "source": [
    "# Combine the data into one dataframe\n",
    "# Test out LR, RF, NN"
   ]
  },
  {
   "cell_type": "code",
   "execution_count": null,
   "metadata": {
    "colab": {
     "base_uri": "https://localhost:8080/"
    },
    "id": "4d7t2_7RifGt",
    "outputId": "2448676c-136d-47cb-b1ff-2e2d0ba775a8"
   },
   "outputs": [
    {
     "name": "stdout",
     "output_type": "stream",
     "text": [
      "         team_pts     opp_pts         cmp         att     pass_yds  \\\n",
      "count  186.000000  186.000000  186.000000  186.000000   186.000000   \n",
      "mean   313.161290  298.204301   45.182796   69.123656   503.698925   \n",
      "std    123.288086  105.799153  119.227871  181.091707  1325.175662   \n",
      "min      0.000000    0.000000    0.000000    0.000000     0.000000   \n",
      "25%    234.750000  260.250000    0.000000    0.000000     0.000000   \n",
      "50%    324.000000  320.500000    0.000000    0.000000     0.000000   \n",
      "75%    410.000000  365.750000    0.000000    0.000000     0.000000   \n",
      "max    530.000000  459.000000  485.000000  719.000000  5316.000000   \n",
      "\n",
      "          pass_td         int      rating      sacked    rush_att  \\\n",
      "count  186.000000  186.000000  185.000000  186.000000  186.000000   \n",
      "mean     3.397849    1.510753   13.335930    4.408602   55.591398   \n",
      "std      9.385025    4.040657   32.747224   11.589591   78.832047   \n",
      "min      0.000000    0.000000    0.000000    0.000000    0.000000   \n",
      "25%      0.000000    0.000000    0.000000    0.000000    0.000000   \n",
      "50%      0.000000    0.000000    0.000000    0.000000    0.000000   \n",
      "75%      0.000000    0.000000    0.000000    0.000000   94.000000   \n",
      "max     43.000000   17.000000  112.506250   51.000000  332.000000   \n",
      "\n",
      "          rush_yds     rush_td         tgt      rec_yds      rec_td  \\\n",
      "count   186.000000  186.000000  186.000000   186.000000  186.000000   \n",
      "mean    241.215054    1.930108   57.881720   436.860215    2.704301   \n",
      "std     352.083984    3.253349   47.125674   409.433177    3.178251   \n",
      "min       0.000000    0.000000    0.000000     0.000000    0.000000   \n",
      "25%       0.000000    0.000000   18.500000    97.750000    0.000000   \n",
      "50%       0.000000    0.000000   52.500000   328.000000    2.000000   \n",
      "75%     422.250000    3.000000   89.750000   687.250000    4.000000   \n",
      "max    1811.000000   18.000000  191.000000  1947.000000   16.000000   \n",
      "\n",
      "         snap_pct         rec  \n",
      "count  184.000000  186.000000  \n",
      "mean     0.367747   28.779570  \n",
      "std      0.385052   35.834301  \n",
      "min      0.000000    0.000000  \n",
      "25%      0.000000    0.000000  \n",
      "50%      0.000000    0.000000  \n",
      "75%      0.767898   57.500000  \n",
      "max      0.941176  145.000000   \n",
      "\n",
      "\n",
      "\n",
      "         team_pts     opp_pts         cmp         att     pass_yds  \\\n",
      "count  165.000000  165.000000  165.000000  165.000000   165.000000   \n",
      "mean   307.460606  295.818182   38.806061   59.496970   424.836364   \n",
      "std    110.631750   92.469591  109.019963  165.888503  1188.124015   \n",
      "min     37.000000   19.000000    0.000000    0.000000     0.000000   \n",
      "25%    230.000000  251.000000    0.000000    0.000000     0.000000   \n",
      "50%    310.000000  313.000000    0.000000    0.000000     0.000000   \n",
      "75%    397.000000  358.000000    0.000000    0.000000     0.000000   \n",
      "max    496.000000  508.000000  490.000000  733.000000  5250.000000   \n",
      "\n",
      "          pass_td         int      rating      sacked    rush_att  \\\n",
      "count  165.000000  165.000000  165.000000  165.000000  165.000000   \n",
      "mean     2.715152    1.290909   12.066454    4.036364   62.860606   \n",
      "std      7.850591    3.544178   30.996382   11.285049   89.487286   \n",
      "min      0.000000    0.000000    0.000000    0.000000    0.000000   \n",
      "25%      0.000000    0.000000    0.000000    0.000000    0.000000   \n",
      "50%      0.000000    0.000000    0.000000    0.000000    0.000000   \n",
      "75%      0.000000    0.000000    0.000000    0.000000  106.000000   \n",
      "max     41.000000   15.000000  105.782353   55.000000  349.000000   \n",
      "\n",
      "          rush_yds     rush_td         tgt      rec_yds      rec_td  \\\n",
      "count   165.000000  165.000000  165.000000   165.000000  165.000000   \n",
      "mean    282.357576    2.103030   60.533333   454.375758    2.733333   \n",
      "std     412.658188    3.431604   47.319043   415.919043    3.010416   \n",
      "min      -1.000000    0.000000    0.000000     0.000000    0.000000   \n",
      "25%       0.000000    0.000000   20.000000    97.000000    0.000000   \n",
      "50%       0.000000    0.000000   54.000000   356.000000    2.000000   \n",
      "75%     468.000000    3.000000   93.000000   722.000000    4.000000   \n",
      "max    1653.000000   17.000000  184.000000  1809.000000   14.000000   \n",
      "\n",
      "         snap_pct         rec  \n",
      "count  165.000000  165.000000  \n",
      "mean     0.379947   30.151515  \n",
      "std      0.391272   35.671538  \n",
      "min      0.000000    0.000000  \n",
      "25%      0.000000    0.000000  \n",
      "50%      0.270000    6.000000  \n",
      "75%      0.781176   58.000000  \n",
      "max      0.966250  128.000000  \n"
     ]
    }
   ],
   "source": [
    "# Example: 2021 stats + 2022 fantasy outcome\n",
    "df_2021 = pd.read_csv('/content/fantasy_data_2021.csv')\n",
    "df_2022 = pd.read_csv('/content/fantasy_data_2022.csv')\n",
    "\n",
    "df_2022['fantasy_pts'] = fantasy_points(df_2022)\n",
    "df_2021['fantasy_pts'] = fantasy_points(df_2021)\n",
    "df_2022.rename(columns = {'fantasy_pts': 'next_yr_pts'}, inplace=True)\n",
    "df_2021 = pd.merge(df_2021, df_2022[['name', 'position', 'next_yr_pts']], on=['name', 'position'], how='inner')"
   ]
  },
  {
   "cell_type": "code",
   "execution_count": null,
   "metadata": {
    "colab": {
     "base_uri": "https://localhost:8080/"
    },
    "id": "1n1WqBrJXprG",
    "outputId": "96b59447-097d-4635-e43b-e87e3348aaca"
   },
   "outputs": [
    {
     "name": "stdout",
     "output_type": "stream",
     "text": [
      "                    name position  team_pts  opp_pts  cmp  att  pass_yds  \\\n",
      "0    Christian McCaffrey       RB       140      124    0    0         0   \n",
      "1            Dalvin Cook       RB       326      333    0    0         0   \n",
      "2          Derrick Henry       RB       227      195    0    0         0   \n",
      "3           Alvin Kamara       RB       291      214    0    0         0   \n",
      "4        Ezekiel Elliott       RB       530      358    0    0         0   \n",
      "..                   ...      ...       ...      ...  ...  ...       ...   \n",
      "181    Amon-Ra St. Brown       WR       306      439    0    0         0   \n",
      "182          Zach Wilson       QB       212      359  213  383      2334   \n",
      "183         Carson Wentz       QB       451      365  322  516      3563   \n",
      "184         Blake Jarwin       TE       276      188    0    0         0   \n",
      "185      Darrynton Evans       RB        27        3    0    0         0   \n",
      "\n",
      "     pass_td  int     rating  sacked  rush_att  rush_yds  rush_td  tgt  \\\n",
      "0          0    0   0.000000       0        99       442        1   41   \n",
      "1          0    0   0.000000       0       249      1159        6   49   \n",
      "2          0    0   0.000000       0       219       937       10   20   \n",
      "3          0    0   0.000000       0       240       898        4   67   \n",
      "4          0    0   0.000000       0       237      1002       10   65   \n",
      "..       ...  ...        ...     ...       ...       ...      ...  ...   \n",
      "181        0    0   0.000000       0         0         0        0  119   \n",
      "182        9   11  71.084615      44        29       185        4    0   \n",
      "183       27    7  95.158824      32        57       215        1    0   \n",
      "184        0    0   0.000000       0         0         0        0   17   \n",
      "185        0    0   0.000000       0         2         7        0    2   \n",
      "\n",
      "     rec_yds  rec_td  snap_pct  rec  next_yr_pts  \n",
      "0        343       1   0.00000    0        90.50  \n",
      "1        224       0   0.00000    0       174.30  \n",
      "2        154       0   0.00000    0       169.10  \n",
      "3        439       5   0.00000    0       187.70  \n",
      "4        287       2   0.00000    0       200.90  \n",
      "..       ...     ...       ...  ...          ...  \n",
      "181      912       5   0.75625   90       121.20  \n",
      "182        0       0   0.00000    0       149.86  \n",
      "183        0       0   0.00000    0       264.02  \n",
      "184       96       2   0.46375   11        21.60  \n",
      "185       11       0   0.00000    0         1.80  \n",
      "\n",
      "[186 rows x 20 columns]\n"
     ]
    }
   ],
   "source": [
    "# df_2021 = pd.read_csv('/content/fantasy_data_2021.csv')\n",
    "# df_2022 = pd.read_csv('/content/fantasy_data_2022.csv')\n",
    "\n",
    "# df_2022['fantasy_pts'] = fantasy_points(df_2022)\n",
    "# df_2021 = pd.merge(df_2021, df_2022[['name', 'position', 'fantasy_pts']], on=['name', 'position'], how='inner')\n",
    "# df_2021.rename(columns = {'fantasy_pts': 'next_yr_pts'}, inplace=True)\n",
    "# print(df_2021)"
   ]
  },
  {
   "cell_type": "code",
   "execution_count": null,
   "metadata": {
    "colab": {
     "base_uri": "https://localhost:8080/"
    },
    "id": "wGIl2-My-_Ek",
    "outputId": "8cdf7dd0-7b15-4cd8-867c-8d4a0d04241a"
   },
   "outputs": [
    {
     "name": "stdout",
     "output_type": "stream",
     "text": [
      "     team_pts  opp_pts  cmp  att  pass_yds  pass_td  int     rating  sacked  \\\n",
      "0         140      124    0    0         0        0    0   0.000000       0   \n",
      "1         326      333    0    0         0        0    0   0.000000       0   \n",
      "2         227      195    0    0         0        0    0   0.000000       0   \n",
      "3         291      214    0    0         0        0    0   0.000000       0   \n",
      "4         530      358    0    0         0        0    0   0.000000       0   \n",
      "..        ...      ...  ...  ...       ...      ...  ...        ...     ...   \n",
      "124       374      439  428  626      4804       23   14  94.305882      40   \n",
      "125       302      265    0    0         0        0    0   0.000000       0   \n",
      "126       226      372    0    0         0        0    0   0.000000       0   \n",
      "127       415      268    0    0         0        0    0   0.000000       0   \n",
      "128       306      439    0    0         0        0    0   0.000000       0   \n",
      "\n",
      "     rush_att  rush_yds  rush_td  tgt  rec_yds  rec_td  snap_pct  rec  \n",
      "0          99       442        1   41      343       1  0.000000    0  \n",
      "1         249      1159        6   49      224       0  0.000000    0  \n",
      "2         219       937       10   20      154       0  0.000000    0  \n",
      "3         240       898        4   67      439       5  0.000000    0  \n",
      "4         237      1002       10   65      287       2  0.000000    0  \n",
      "..        ...       ...      ...  ...      ...     ...       ...  ...  \n",
      "124        40       108        0    0        0       0  0.000000    0  \n",
      "125         0         0        0   55      430       3  0.620000   26  \n",
      "126         0         0        0   94      770       4  0.743846   66  \n",
      "127         0         0        0   63      549       6  0.507333   35  \n",
      "128         0         0        0  119      912       5  0.756250   90  \n",
      "\n",
      "[129 rows x 17 columns]\n",
      "Mean squared error: 2263.711909406806\n",
      "R-squared score: 0.5712144175087163\n",
      "params [ -0.02472247  -0.26829001  -0.6126433    1.61050671  -0.11975537\n",
      "   4.51203696 -10.04782613  -1.5562651    7.08872773   0.04800874\n",
      "   0.10411143   0.           0.71343153   0.0339825    2.36471018\n",
      "  -0.          -0.08796084]\n",
      "Mean squared error: 2458.4271671447405\n",
      "R-squared score: 0.5343320320504982\n",
      "                    name  next_yr_pts\n",
      "57        Justin Herbert       284.26\n",
      "70        Kenny Golladay        14.10\n",
      "66           Jerry Jeudy       133.20\n",
      "128    Amon-Ra St. Brown       152.10\n",
      "25      David Montgomery       147.70\n",
      "10          Travis Kelce       205.80\n",
      "71         DeVonta Smith       161.60\n",
      "42          Adam Thielen       107.60\n",
      "21            A.J. Brown       215.60\n",
      "23      Justin Jefferson       228.90\n",
      "85            Tyler Boyd       106.20\n",
      "104  Rhamondre Stevenson       182.10\n",
      "56        Michael Thomas        35.10\n",
      "52         Tyler Lockett       157.30\n",
      "50          Dak Prescott       200.60\n",
      "98            Trey Lance        12.46\n",
      "35            Mike Evans       148.40\n",
      "109       Michael Gallup        66.40\n",
      "17             Joe Mixon       179.50\n",
      "28        James Robinson        77.60\n",
      "79        Dallas Goedert        88.20\n",
      "6            Aaron Jones       193.60\n",
      "110         Elijah Moore        50.60\n",
      "93         Jarvis Landry        33.20\n",
      "83   Michael Pittman Jr.       116.50\n",
      "48         Aaron Rodgers       243.20 \n",
      " [294.11271278  55.76849092  90.36206119  83.98957387 150.24690703\n",
      " 132.02726969  85.88586658 102.30973699 119.88917211 153.27311163\n",
      "  84.35512671 114.59182952  95.08446698 115.24854004 267.09422527\n",
      "  19.06466838 129.4421474   98.1738148  174.99841714 106.35603748\n",
      "  83.83383371 165.93364351  74.04421968  96.38650047 115.80350349\n",
      " 288.47842716] \n",
      " [90.5, 174.3, 169.10000000000002, 187.70000000000002, 200.9, 197.3, 179.0, 221.3, 337.1, 109.60000000000001, 166.5, 177.9, 226.70000000000002, 275.8, 193.1, 365.65999999999997, 182.5, 247.9, 168.7, 100.60000000000001, 105.2, 116.9, 176.0, 221.60000000000002, 78.5, 157.0, 402.58, 149.8, 146.9, 127.0, 135.3, 146.2, 148.9, 91.2, 299.78, 187.5, 47.0, 134.4, 108.60000000000001, 79.6, 49.400000000000006, 241.98000000000002, 132.60000000000002, 134.5, 190.1, 86.0, 140.3, 163.9, 332.7, 290.70000000000005, 326.56, 196.10000000000002, 165.5, 82.30000000000001, 112.60000000000001, 164.10000000000002, 0.0, 370.76, 242.82, 102.30000000000001, 139.7, 98.0, 173.10000000000002, 145.10000000000002, 73.2, 380.74, 46.7, 223.5, 153.60000000000002, 120.4, 52.1, 121.60000000000001, 329.74, 89.60000000000001, 32.400000000000006, 186.60000000000002, 220.7, 157.8, 12.9, 107.0, 176.5, 310.16, 27.4, 144.2, 93.8, 112.80000000000001, 117.60000000000001, 127.30000000000001, 168.60000000000002, 81.3, 316.24, 95.9, 137.5, 69.0, 139.7, 129.5, 228.92, 86.0, 62.92, 90.0, 114.30000000000001, 205.04000000000002, 115.7, 136.8, 102.9, 136.8, 76.6, 0.0, 84.9, 56.5, 83.80000000000001, 0.0, 119.4, 91.7, 106.3, 90.4, 63.5, 83.60000000000001, 149.0, 304.34000000000003, 226.94, 180.92000000000002, 71.80000000000001, 22.900000000000002, 266.96000000000004, 61.0, 101.0, 90.9, 121.2]\n"
     ]
    },
    {
     "name": "stderr",
     "output_type": "stream",
     "text": [
      "/usr/local/lib/python3.10/dist-packages/sklearn/linear_model/_coordinate_descent.py:631: ConvergenceWarning: Objective did not converge. You might want to increase the number of iterations, check the scale of the features or consider increasing regularisation. Duality gap: 1.556e+05, tolerance: 8.137e+01\n",
      "  model = cd_fast.enet_coordinate_descent(\n"
     ]
    }
   ],
   "source": [
    "# Separate features and target\n",
    "y = df_2021[['name','next_yr_pts']]\n",
    "X = df_2021.drop(columns=['name', 'position', 'fantasy_pts','next_yr_pts'])\n",
    "\n",
    "X.fillna(0, inplace=True)\n",
    "\n",
    "# Split the data into training and testing sets\n",
    "\n",
    "X_train, X_test, y_train, y_test = train_test_split(X, y, test_size=0.2, random_state=5)\n",
    "print(X)\n",
    "\n",
    "# Train the linear regression model\n",
    "\n",
    "model = LinearRegression()\n",
    "model.fit(X_train, y_train['next_yr_pts'])\n",
    "\n",
    "# Evaluate the model on the testing set\n",
    "y_pred = model.predict(X_test)\n",
    "\n",
    "print('Mean squared error:', mean_squared_error(y_test['next_yr_pts'], y_pred))\n",
    "print('R-squared score:', r2_score(y_test['next_yr_pts'], y_pred))\n",
    "\n",
    "# Train the Lasso model\n",
    "## May want to mess w/ alpha value\n",
    "lasso = Lasso(alpha = 1)\n",
    "lasso.fit(X_train, y_train['next_yr_pts'])\n",
    "\n",
    "# Evaluate the model on the testing set\n",
    "y_pred_2 = lasso.predict(X_test)\n",
    "\n",
    "print(f'params {lasso.coef_ }')\n",
    "print('Mean squared error:', mean_squared_error(y_test['next_yr_pts'], y_pred_2))\n",
    "print('R-squared score:', r2_score(y_test['next_yr_pts'], y_pred_2))\n",
    "\n",
    "print(y_test, \"\\n\", y_pred, \"\\n\", fantasy_points(df_2021))"
   ]
  },
  {
   "cell_type": "code",
   "execution_count": null,
   "metadata": {
    "colab": {
     "base_uri": "https://localhost:8080/",
     "height": 430
    },
    "id": "oZfHWn0badoH",
    "outputId": "57cafcee-e2aa-4676-adaa-9b7fcc426115"
   },
   "outputs": [
    {
     "data": {
      "image/png": "[encoded data removed]",
      "text/plain": [
       "<Figure size 640x480 with 1 Axes>"
      ]
     },
     "metadata": {},
     "output_type": "display_data"
    }
   ],
   "source": [
    "# plt.scatter(X_train['rec_yds'], y_train)\n",
    "plt.scatter(y_pred,y_test['next_yr_pts'])\n",
    "plt.show()"
   ]
  }
 ],
 "metadata": {
  "colab": {
   "provenance": []
  },
  "kernelspec": {
   "display_name": "Python 3 (ipykernel)",
   "language": "python",
   "name": "python3"
  },
  "language_info": {
   "codemirror_mode": {
    "name": "ipython",
    "version": 3
   },
   "file_extension": ".py",
   "mimetype": "text/x-python",
   "name": "python",
   "nbconvert_exporter": "python",
   "pygments_lexer": "ipython3",
   "version": "3.12.0"
  }
 },
 "nbformat": 4,
 "nbformat_minor": 4
}
